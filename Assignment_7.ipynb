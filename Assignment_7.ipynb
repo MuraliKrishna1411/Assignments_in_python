{
 "cells": [
  {
   "cell_type": "markdown",
   "metadata": {},
   "source": [
    "Q.1. Create two int type variables, apply addition, subtraction, division and multiplications\n",
    "and store the results in variables. Then print the data in the following format by calling the\n",
    "variables:\n",
    "First variable is __ & second variable is __.\n",
    "Addition: __ + __ = __\n",
    "Subtraction: __ - __ = __\n",
    "Multiplication: __ * __ = __\n",
    "Division: __ / __ = __"
   ]
  },
  {
   "cell_type": "code",
   "execution_count": 1,
   "metadata": {},
   "outputs": [
    {
     "name": "stdout",
     "output_type": "stream",
     "text": [
      "Addition: 20 + 10 = 30\n",
      "Subtraction: 20 - 10 = 10\n",
      "Multiplication: 20 * 10 = 200\n",
      "Division: 20 / 10 = 2\n"
     ]
    }
   ],
   "source": [
    "def cal(a,b):\n",
    "    if a < b :\n",
    "        a,b = b,a\n",
    "    print(f'Addition: {a} + {b} = {a + b}' )\n",
    "    print(f'Subtraction: {a} - {b} = {a - b}' )\n",
    "    print(f'Multiplication: {a} * {b} = {a * b}' )\n",
    "    print(f'Division: {a} / {b} = {a // b}' )\n",
    "\n",
    "\n",
    "cal(10,20)"
   ]
  },
  {
   "cell_type": "markdown",
   "metadata": {},
   "source": [
    "Q.2. What is the difference between the following operators:\n",
    "(i) ‘/’ & ‘//’\n",
    "(ii) ‘**’ & ‘^’"
   ]
  },
  {
   "cell_type": "code",
   "execution_count": 9,
   "metadata": {},
   "outputs": [
    {
     "data": {
      "text/plain": [
       "\"\\n(i) '/' vs. '//'\\n\\n--> '/' is the division operator, which returns a floating-point result. For example, 5 / 2 would return 2.5.\\n--> '//' is the floor division operator, which returns the integer part of the division result. \\nFor example, 5 // 2 would return 2, as it discards the fractional part.\\n\\n(ii) '**' vs. '^'\\n\\n--> '**' is the exponentiation operator in Python, used for raising a number to a power. \\nFor example, 2 ** 3 equals 8, as it calculates 2 raised to the power of 3.\\n--> '^' is not a standard mathematical operator in Python. It is not used for exponentiation. \\nTo calculate powers, you should use '**'.\\n\""
      ]
     },
     "execution_count": 9,
     "metadata": {},
     "output_type": "execute_result"
    }
   ],
   "source": [
    "'''\n",
    "(i) '/' vs. '//'\n",
    "\n",
    "--> '/' is the division operator, which returns a floating-point result. For example, 5 / 2 would return 2.5.\n",
    "--> '//' is the floor division operator, which returns the integer part of the division result. \n",
    "For example, 5 // 2 would return 2, as it discards the fractional part.\n",
    "\n",
    "(ii) '**' vs. '^'\n",
    "\n",
    "--> '**' is the exponentiation operator in Python, used for raising a number to a power. \n",
    "For example, 2 ** 3 equals 8, as it calculates 2 raised to the power of 3.\n",
    "--> '^' is not a standard mathematical operator in Python. It is not used for exponentiation. \n",
    "To calculate powers, you should use '**'.\n",
    "'''"
   ]
  },
  {
   "cell_type": "markdown",
   "metadata": {},
   "source": [
    "\n",
    "Q.3. List the logical operators."
   ]
  },
  {
   "cell_type": "code",
   "execution_count": 10,
   "metadata": {},
   "outputs": [
    {
     "data": {
      "text/plain": [
       "\"\\n'and' (logical AND)\\n'or' (logical OR)\\n'not' (logical NOT)\\n\""
      ]
     },
     "execution_count": 10,
     "metadata": {},
     "output_type": "execute_result"
    }
   ],
   "source": [
    "'''\n",
    "'and' (logical AND)\n",
    "'or' (logical OR)\n",
    "'not' (logical NOT)\n",
    "'''"
   ]
  },
  {
   "cell_type": "markdown",
   "metadata": {},
   "source": [
    "Q.4. Explain right shift operator and left shift operator with examples."
   ]
  },
  {
   "cell_type": "code",
   "execution_count": 21,
   "metadata": {},
   "outputs": [
    {
     "name": "stdout",
     "output_type": "stream",
     "text": [
      "1100\n",
      "11\n"
     ]
    }
   ],
   "source": [
    "'''\n",
    "Right shift (>>) and left shift (<<) operators are bitwise operators used to shift the bits \n",
    "of a binary number left or right\n",
    "\n",
    "Right Shift (>>): The right shift operator shifts the bits to the right by a specified number \n",
    "of positions, discarding the rightmost bits and filling the leftmost positions with zeros.\n",
    "'''\n",
    "# Right shift by 2 positions\n",
    "x = 12  # Binary: 1100\n",
    "print(bin(x)[2:])\n",
    "y = x >> 2  # Binary: 0011\n",
    "print(bin(y)[2:])\n",
    "# print(y)  # Output: 3\n"
   ]
  },
  {
   "cell_type": "markdown",
   "metadata": {},
   "source": [
    "Q.5. Create a list containing int type data of length 15. Then write a code to check if 10 is\n",
    "present in the list or not"
   ]
  },
  {
   "cell_type": "code",
   "execution_count": 22,
   "metadata": {},
   "outputs": [
    {
     "name": "stdout",
     "output_type": "stream",
     "text": [
      "10 is present in the list.\n"
     ]
    }
   ],
   "source": [
    "# Create a list containing int type data\n",
    "my_list = [5, 8, 3, 10, 15, 7, 20, 12, 18, 1, 6, 9, 4, 13, 2]\n",
    "\n",
    "# Check if 10 is present in the list\n",
    "if 10 in my_list:\n",
    "    print(\"10 is present in the list.\")\n",
    "else:\n",
    "    print(\"10 is not present in the list.\")"
   ]
  }
 ],
 "metadata": {
  "kernelspec": {
   "display_name": "Python 3 (ipykernel)",
   "language": "python",
   "name": "python3"
  },
  "language_info": {
   "codemirror_mode": {
    "name": "ipython",
    "version": 3
   },
   "file_extension": ".py",
   "mimetype": "text/x-python",
   "name": "python",
   "nbconvert_exporter": "python",
   "pygments_lexer": "ipython3",
   "version": "3.9.13"
  }
 },
 "nbformat": 4,
 "nbformat_minor": 2
}
