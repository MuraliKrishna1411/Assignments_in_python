{
 "cells": [
  {
   "cell_type": "markdown",
   "metadata": {},
   "source": [
    "1. Why are functions advantageous to have in your programs?"
   ]
  },
  {
   "cell_type": "code",
   "execution_count": 1,
   "metadata": {},
   "outputs": [
    {
     "data": {
      "text/plain": [
       "'Functions in programming provide essential benefits, including code reuse, modularity, and abstraction. \\nThey enhance code maintainability, facilitate testing, improve code readability and organization, \\nsupport collaboration among developers, ensure encapsulation, and enable scalability. \\nFunctions are a fundamental tool for efficient and well-structured code. '"
      ]
     },
     "execution_count": 1,
     "metadata": {},
     "output_type": "execute_result"
    }
   ],
   "source": [
    "'''Functions in programming provide essential benefits, including code reuse, modularity, and abstraction. \n",
    "They enhance code maintainability, facilitate testing, improve code readability and organization, \n",
    "support collaboration among developers, ensure encapsulation, and enable scalability. \n",
    "Functions are a fundamental tool for efficient and well-structured code. '''"
   ]
  },
  {
   "cell_type": "markdown",
   "metadata": {},
   "source": [
    "2. When does the code in a function run: when it's specified or when it's called?"
   ]
  },
  {
   "cell_type": "code",
   "execution_count": 2,
   "metadata": {},
   "outputs": [
    {
     "data": {
      "text/plain": [
       "\" \\nThe code within a function runs when the function is called, not when it is specified or defined. \\nFunctions are like reusable blocks of code that remain dormant until explicitly invoked by a function call. \\nWhen you call a function, the program execution jumps to the function's code, executes the statements within it, \\nand then returns control to the point where the function was called.  \\nThis behavior allows you to control when and how often a specific set of instructions is executed, \\npromoting code reuse and modularity. \\n    \\n\""
      ]
     },
     "execution_count": 2,
     "metadata": {},
     "output_type": "execute_result"
    }
   ],
   "source": [
    "''' \n",
    "The code within a function runs when the function is called, not when it is specified or defined. \n",
    "Functions are like reusable blocks of code that remain dormant until explicitly invoked by a function call. \n",
    "When you call a function, the program execution jumps to the function's code, executes the statements within it, \n",
    "and then returns control to the point where the function was called.  \n",
    "This behavior allows you to control when and how often a specific set of instructions is executed, \n",
    "promoting code reuse and modularity. \n",
    "    \n",
    "'''"
   ]
  },
  {
   "cell_type": "markdown",
   "metadata": {},
   "source": [
    "3. What statement creates a function?"
   ]
  },
  {
   "cell_type": "code",
   "execution_count": 3,
   "metadata": {},
   "outputs": [
    {
     "data": {
      "text/plain": [
       "\"\\ndef: This keyword is used to indicate the start of a function definition.\\n\\nfunction_name: You provide a name for your function. \\nChoose a meaningful and descriptive name for your function.\\n\\nparameters: Inside the parentheses, you can specify any parameters or arguments \\nthat the function accepts. Parameters are optional, and if the function doesn't \\nrequire any, you can leave the parentheses empty.\\n\\n: (colon): It is used to indicate the beginning of the function's code block.\\n\\nFunction body: This is where you write the actual code that the function will execute.\\n\\nreturn (optional): You can use the return statement to specify the value that the \\nfunction will return when it's called. If omitted, the function will return None by default. \""
      ]
     },
     "execution_count": 3,
     "metadata": {},
     "output_type": "execute_result"
    }
   ],
   "source": [
    "'''\n",
    "In Python, you can create a function using the def statement followed by the function name and a set of parentheses.\n",
    "Here's the basic syntax for defining a function in Python'''\n",
    "\n",
    "def function_name(parameters):\n",
    "    # Function body or code block\n",
    "    # \n",
    "    return result  # Optional\n",
    "\n",
    "'''\n",
    "def: This keyword is used to indicate the start of a function definition.\n",
    "\n",
    "function_name: You provide a name for your function. \n",
    "Choose a meaningful and descriptive name for your function.\n",
    "\n",
    "parameters: Inside the parentheses, you can specify any parameters or arguments \n",
    "that the function accepts. Parameters are optional, and if the function doesn't \n",
    "require any, you can leave the parentheses empty.\n",
    "\n",
    ": (colon): It is used to indicate the beginning of the function's code block.\n",
    "\n",
    "Function body: This is where you write the actual code that the function will execute.\n",
    "\n",
    "return (optional): You can use the return statement to specify the value that the \n",
    "function will return when it's called. If omitted, the function will return None by default. '''\n"
   ]
  },
  {
   "cell_type": "markdown",
   "metadata": {},
   "source": [
    "4. What is the difference between a function and a function call?"
   ]
  },
  {
   "cell_type": "code",
   "execution_count": 6,
   "metadata": {},
   "outputs": [
    {
     "data": {
      "text/plain": [
       "'\\nA function is a block of code that defines a specific task, \\nwhile a function call is the act of executing that code with specific inputs.\\n'"
      ]
     },
     "execution_count": 6,
     "metadata": {},
     "output_type": "execute_result"
    }
   ],
   "source": [
    "'''\n",
    "A function is a block of code that defines a specific task, \n",
    "while a function call is the act of executing that code with specific inputs.\n",
    "'''"
   ]
  },
  {
   "cell_type": "markdown",
   "metadata": {},
   "source": [
    "5. How many global scopes are there in a Python program? How many local scopes?"
   ]
  },
  {
   "cell_type": "code",
   "execution_count": 7,
   "metadata": {},
   "outputs": [
    {
     "data": {
      "text/plain": [
       "'\\nIn a Python program, there is one global scope and potentially multiple local scopes.\\n\\nGlobal Scope: There is a single global scope in a Python program. This scope includes variables and objects\\n that are defined at the top level of the program, outside of any function or class definition.\\n  Global variables are accessible from any part of the program.\\n\\nLocal Scopes: Local scopes are created within functions. Each time you define a function, it creates a new local scope.\\n\\n'"
      ]
     },
     "execution_count": 7,
     "metadata": {},
     "output_type": "execute_result"
    }
   ],
   "source": [
    "'''\n",
    "In a Python program, there is one global scope and potentially multiple local scopes.\n",
    "\n",
    "Global Scope: There is a single global scope in a Python program. This scope includes variables and objects \n",
    "that are defined at the top level of the program, outside of any function or class definition. \n",
    "Global variables are accessible from any part of the program.\n",
    "\n",
    "Local Scopes: Local scopes are created within functions. Each time you define a function, it creates a new local scope.\n",
    "\n",
    "'''"
   ]
  },
  {
   "cell_type": "markdown",
   "metadata": {},
   "source": [
    "6. What happens to variables in a local scope when the function call returns?"
   ]
  },
  {
   "cell_type": "code",
   "execution_count": 8,
   "metadata": {},
   "outputs": [
    {
     "data": {
      "text/plain": [
       "'\\nWhen a function call returns in Python, the variables in the local scope of that function are destroyed,\\n and their values are no longer accessible. This is because local variables are only valid and\\n  exist within the scope of the function in which they are defined. Once the function completes its execution and\\n   returns a value (if any), its local variables go out of scope and are deallocated, freeing up the memory they occupied.\\n   '"
      ]
     },
     "execution_count": 8,
     "metadata": {},
     "output_type": "execute_result"
    }
   ],
   "source": [
    "'''\n",
    "When a function call returns in Python, the variables in the local scope of that function are destroyed, \n",
    "and their values are no longer accessible. This is because local variables are only valid and \n",
    "exist within the scope of the function in which they are defined. Once the function completes its execution and \n",
    "returns a value (if any), its local variables go out of scope and are deallocated, freeing up the memory they occupied.\n",
    "   '''"
   ]
  },
  {
   "cell_type": "markdown",
   "metadata": {},
   "source": [
    "7. What is the concept of a return value? Is it possible to have a return value in an expression?"
   ]
  },
  {
   "cell_type": "code",
   "execution_count": 4,
   "metadata": {},
   "outputs": [
    {
     "name": "stdout",
     "output_type": "stream",
     "text": [
      "11\n"
     ]
    },
    {
     "data": {
      "text/plain": [
       "'\\nYes, it is possible to have a return value in an expression.\\nYou can directly use the return value of a function in expressions, calculations, or as part of other operations.\\n'"
      ]
     },
     "execution_count": 4,
     "metadata": {},
     "output_type": "execute_result"
    }
   ],
   "source": [
    "'''\n",
    "The concept of a return value is the value that a function sends back as the result of its execution. \n",
    "Functions can return a value to the caller. This value can be of any data type, such as numbers, strings, lists, or custom objects.\n",
    "\n",
    "When a function returns a value, you can capture and use it in your code.\n",
    "\n",
    "Here's an example of a function with a return value in Python'''\n",
    "\n",
    "def add(a,b):\n",
    "    result=a+b\n",
    "    return result\n",
    "\n",
    "sum_result = add(5,6)\n",
    "print(sum_result)\n",
    "\n",
    "'''\n",
    "Yes, it is possible to have a return value in an expression.\n",
    "You can directly use the return value of a function in expressions, calculations, or as part of other operations.\n",
    "'''"
   ]
  },
  {
   "cell_type": "markdown",
   "metadata": {},
   "source": [
    "8. If a function does not have a return statement, what is the return value of a call to that function?"
   ]
  },
  {
   "cell_type": "code",
   "execution_count": 5,
   "metadata": {},
   "outputs": [
    {
     "data": {
      "text/plain": [
       "\"\\nIf a function in Python does not have a return statement, or if it exits without executing a return statement, \\nthe function will automatically return a special value called 'None'\\n \""
      ]
     },
     "execution_count": 5,
     "metadata": {},
     "output_type": "execute_result"
    }
   ],
   "source": [
    "'''\n",
    "If a function in Python does not have a return statement, or if it exits without executing a return statement, \n",
    "the function will automatically return a special value called 'None'\n",
    " '''"
   ]
  },
  {
   "cell_type": "markdown",
   "metadata": {},
   "source": [
    "\n",
    "9. How do you make a function variable refer to the global variable?"
   ]
  },
  {
   "cell_type": "code",
   "execution_count": 15,
   "metadata": {},
   "outputs": [
    {
     "name": "stdout",
     "output_type": "stream",
     "text": [
      "20\n"
     ]
    }
   ],
   "source": [
    "'''\n",
    "To make a function variable refer to a global variable in Python, you can use the global keyword to declare that \n",
    "you intend to work with the global variable, even if there is a local variable with the same name. \n",
    "This way, when you modify the variable within the function, it affects the global variable rather than \n",
    "creating a new local variable.\n",
    "  '''\n",
    "\n",
    "  # Example below\n",
    "\n",
    "global_variable = 10  # This is a global variable\n",
    "\n",
    "def modify_global_variable():\n",
    "    global global_variable  # Declare the intention to use the global variable\n",
    "    global_variable = 20  # Modify the global variable\n",
    "\n",
    "modify_global_variable()\n",
    "print(global_variable)  # This will print 20\n"
   ]
  },
  {
   "cell_type": "markdown",
   "metadata": {},
   "source": [
    "10. What is the data type of None?"
   ]
  },
  {
   "cell_type": "code",
   "execution_count": 16,
   "metadata": {},
   "outputs": [
    {
     "data": {
      "text/plain": [
       "'\\nIn Python, None is a special constant representing the absence of a value or a null value. \\nIt is not associated with a specific data type. Instead, it is a unique object of the NoneType.\\n'"
      ]
     },
     "execution_count": 16,
     "metadata": {},
     "output_type": "execute_result"
    }
   ],
   "source": [
    "'''\n",
    "In Python, None is a special constant representing the absence of a value or a null value. \n",
    "It is not associated with a specific data type. Instead, it is a unique object of the NoneType.\n",
    "'''"
   ]
  },
  {
   "cell_type": "markdown",
   "metadata": {},
   "source": [
    "11. What does the sentence import really do?"
   ]
  },
  {
   "cell_type": "code",
   "execution_count": 6,
   "metadata": {},
   "outputs": [
    {
     "data": {
      "text/plain": [
       "'\\nThe import statement in Python is used to bring modules or packages into your program, \\nallowing you to use the functions, classes, and variables defined within them. When you use \\nthe import statement, Python searches for the specified module or package and makes its \\ncontents available for use in your code.\\n\\nThe import statement is a fundamental feature of Python that enables code reuse and \\nmodularity by allowing you to use functionality from external libraries or your own custom modules.\\n\\n '"
      ]
     },
     "execution_count": 6,
     "metadata": {},
     "output_type": "execute_result"
    }
   ],
   "source": [
    "'''\n",
    "The import statement in Python is used to bring modules or packages into your program, \n",
    "allowing you to use the functions, classes, and variables defined within them. When you use \n",
    "the import statement, Python searches for the specified module or package and makes its \n",
    "contents available for use in your code.\n",
    "\n",
    "The import statement is a fundamental feature of Python that enables code reuse and \n",
    "modularity by allowing you to use functionality from external libraries or your own custom modules.\n",
    "\n",
    " '''"
   ]
  },
  {
   "cell_type": "markdown",
   "metadata": {},
   "source": [
    "12. If you had a bacon() feature in a spam module, what would you call it after importing spam?"
   ]
  },
  {
   "cell_type": "code",
   "execution_count": 20,
   "metadata": {},
   "outputs": [],
   "source": [
    "# import spam\n",
    "\n",
    "# result = spam.bacon()"
   ]
  },
  {
   "cell_type": "markdown",
   "metadata": {},
   "source": [
    "13. What can you do to save a programme from crashing if it encounters an error?"
   ]
  },
  {
   "cell_type": "code",
   "execution_count": 7,
   "metadata": {},
   "outputs": [
    {
     "data": {
      "text/plain": [
       "'\\nTo prevent a program from crashing when it encounters an error,\\n we can use Try-Except Blocks(Exception Handling) , Error Loggin to track the error\\n '"
      ]
     },
     "execution_count": 7,
     "metadata": {},
     "output_type": "execute_result"
    }
   ],
   "source": [
    "'''\n",
    "To prevent a program from crashing when it encounters an error,\n",
    " we can use Try-Except Blocks(Exception Handling) , Error Loggin to track the error\n",
    " '''\n"
   ]
  },
  {
   "cell_type": "markdown",
   "metadata": {},
   "source": [
    "14. What is the purpose of the try clause? What is the purpose of the except clause?"
   ]
  },
  {
   "cell_type": "code",
   "execution_count": 8,
   "metadata": {},
   "outputs": [
    {
     "data": {
      "text/plain": [
       "\"'\\nThe `try` and `except` clauses in Python are used for error and exception handling:\\n\\n- The `try` clause encloses code that may raise exceptions.\\n- When Python encounters a `try` block, it attempts to execute its code.\\n- If an exception occurs, Python jumps to the corresponding `except` block (if defined) \\n  to handle the exception.\\n- The `except` clause defines code that is executed when a specific exception occurs.\\n- You can have multiple `except` blocks, each handling different types of exceptions.\\n- These constructs are vital for gracefully handling errors and exceptions, preventing \\n  program crashes, and improving code reliability.\\n\\n\""
      ]
     },
     "execution_count": 8,
     "metadata": {},
     "output_type": "execute_result"
    }
   ],
   "source": [
    "''''\n",
    "The `try` and `except` clauses in Python are used for error and exception handling:\n",
    "\n",
    "- The `try` clause encloses code that may raise exceptions.\n",
    "- When Python encounters a `try` block, it attempts to execute its code.\n",
    "- If an exception occurs, Python jumps to the corresponding `except` block (if defined) \n",
    "  to handle the exception.\n",
    "- The `except` clause defines code that is executed when a specific exception occurs.\n",
    "- You can have multiple `except` blocks, each handling different types of exceptions.\n",
    "- These constructs are vital for gracefully handling errors and exceptions, preventing \n",
    "  program crashes, and improving code reliability.\n",
    "\n",
    "'''"
   ]
  }
 ],
 "metadata": {
  "kernelspec": {
   "display_name": "Python 3 (ipykernel)",
   "language": "python",
   "name": "python3"
  },
  "language_info": {
   "codemirror_mode": {
    "name": "ipython",
    "version": 3
   },
   "file_extension": ".py",
   "mimetype": "text/x-python",
   "name": "python",
   "nbconvert_exporter": "python",
   "pygments_lexer": "ipython3",
   "version": "3.9.13"
  }
 },
 "nbformat": 4,
 "nbformat_minor": 2
}
