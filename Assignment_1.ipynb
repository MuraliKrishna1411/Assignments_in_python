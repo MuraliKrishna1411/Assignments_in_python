{
 "cells": [
  {
   "cell_type": "markdown",
   "metadata": {},
   "source": [
    "'''\n",
    "1. In the below elements which of them are values or an expression?\n",
    "eg:- values can be integer or string and expressions will be mathematical operators."
   ]
  },
  {
   "cell_type": "code",
   "execution_count": 1,
   "metadata": {},
   "outputs": [
    {
     "data": {
      "text/plain": [
       "\"\\n*         - mathematical operator \\n'hello'   -  string\\n-87.8     - float\\n-         - mathematical operator\\n/         - mathematical operator\\n+         - mathematical operator\\n6         - int\\n\""
      ]
     },
     "execution_count": 1,
     "metadata": {},
     "output_type": "execute_result"
    }
   ],
   "source": [
    "'''\n",
    "*         - mathematical operator \n",
    "'hello'   -  string\n",
    "-87.8     - float\n",
    "-         - mathematical operator\n",
    "/         - mathematical operator\n",
    "+         - mathematical operator\n",
    "6         - int\n",
    "'''"
   ]
  },
  {
   "cell_type": "markdown",
   "metadata": {},
   "source": [
    "2. What is the difference between string and variable?"
   ]
  },
  {
   "cell_type": "code",
   "execution_count": 3,
   "metadata": {},
   "outputs": [],
   "source": [
    "'''\n",
    "\n",
    "string is a specific type of data, representing text, while a variable is a general programming concept used to\n",
    "store and manage data, which can include strings or other types of information.\n",
    "You can assign a string to a variable, making the variable hold the string's value.\n",
    "\n",
    "'''"
   ]
  },
  {
   "cell_type": "markdown",
   "metadata": {},
   "source": [
    " 3. Describe three different data types."
   ]
  },
  {
   "cell_type": "code",
   "execution_count": 2,
   "metadata": {},
   "outputs": [],
   "source": [
    "\n",
    "# 1 Boolean - The boolean data type has only two possible values true and false\n",
    "# 2 Interger - Interger data type is used to represent whole numbers without a fractional or decimal component\n",
    "# 3 Float   - data types are used to represent numbers with decimal points or fractional parts\n"
   ]
  },
  {
   "cell_type": "markdown",
   "metadata": {},
   "source": [
    "4. What is an expression made up of? What do all expressions do?"
   ]
  },
  {
   "cell_type": "code",
   "execution_count": 1,
   "metadata": {},
   "outputs": [],
   "source": [
    "\n",
    "# Expressions are the building blocks of mathematical calculations, programming logic, and data manipulation.\n",
    "\n",
    "# They represent the operations and relationships between values and variables in a language that can be evaluated to produce a result."
   ]
  },
  {
   "cell_type": "markdown",
   "metadata": {},
   "source": [
    "5. This assignment statements, like spam = 10. What is the difference between an expression and a statement?"
   ]
  },
  {
   "cell_type": "code",
   "execution_count": 6,
   "metadata": {},
   "outputs": [
    {
     "data": {
      "text/plain": [
       "\"\\n\\nExpression: An expression produces a value when evaluated, like 10 + 7\\n\\nStatement : A statement performs an action, like spam =10, and doesn't necessarily produce a value\\n\\n\""
      ]
     },
     "execution_count": 6,
     "metadata": {},
     "output_type": "execute_result"
    }
   ],
   "source": [
    "\n",
    "# Expression: An expression produces a value when evaluated, like 10 + 7\n",
    "\n",
    "# Statement : A statement performs an action, like spam =10, and doesn't necessarily produce a value\n"
   ]
  },
  {
   "cell_type": "markdown",
   "metadata": {},
   "source": [
    "6. After running the following code, what does the variable bacon contain?\n",
    "bacon = 22\n",
    "bacon + 1"
   ]
  },
  {
   "cell_type": "code",
   "execution_count": 2,
   "metadata": {},
   "outputs": [
    {
     "name": "stdout",
     "output_type": "stream",
     "text": [
      "22\n"
     ]
    }
   ],
   "source": [
    "# After running the code, the value of bacon contains 22, as we know that bacon + 1 will give result 23, but can't change bacon to 23\n",
    "\n",
    "# Bacon will remain 22, unless we update it\n",
    "\n",
    "bacon = 22\n",
    "bacon + 1\n",
    "print(bacon)"
   ]
  },
  {
   "cell_type": "markdown",
   "metadata": {},
   "source": [
    "7. What should the values of the following two terms be?\n",
    "'spam' + 'spamspam'\n",
    "'spam' * 3"
   ]
  },
  {
   "cell_type": "code",
   "execution_count": 5,
   "metadata": {},
   "outputs": [],
   "source": [
    "# 'spam' + 'spamspam'  = 'spamspamspam'\n",
    "# 'spam' * 3  = 'spamspamspam'"
   ]
  },
  {
   "cell_type": "markdown",
   "metadata": {},
   "source": [
    "8. Why is eggs a valid variable name while 100 is invalid?"
   ]
  },
  {
   "cell_type": "code",
   "execution_count": null,
   "metadata": {},
   "outputs": [],
   "source": [
    "# Variable names cannot start with a number\n",
    "\n",
    "# Variable names must begin with a letter (a-z, A-Z) or an underscore (_). They cannot start with a digit (0-9).\n",
    "\n",
    "# eggs is a valid variable name because it starts with letter and only contains letters, while\n",
    "\n",
    "# 100 is invalid as variable name beacause it starts with a digit, which is not allowed."
   ]
  },
  {
   "cell_type": "markdown",
   "metadata": {},
   "source": [
    "9. What three functions can be used to get the integer, floating-point number, or string version of a value?"
   ]
  },
  {
   "cell_type": "code",
   "execution_count": 12,
   "metadata": {},
   "outputs": [
    {
     "data": {
      "text/plain": [
       "'\\n\\nIn Python, you can use the following three functions to get the integer, floating-point number, or string version of a value:\\n\\n1. `int()`: This function converts a value to an integer. For example, `int(3.14)` would return `3`.\\n\\n2. `float()`: This function converts a value to a floating-point number. For example, `float(\"42\")` would return `42.0`.\\n\\n3. `str()`: This function converts a value to a string. For example, `str(123)` would return the string `\"123\"`.\\n\\n'"
      ]
     },
     "execution_count": 12,
     "metadata": {},
     "output_type": "execute_result"
    }
   ],
   "source": [
    "'''\n",
    "\n",
    "In Python, you can use the following three functions to get the integer, floating-point number, or string version of a value:\n",
    "\n",
    "1. `int()`: This function converts a value to an integer. For example, `int(3.14)` would return `3`.\n",
    "\n",
    "2. `float()`: This function converts a value to a floating-point number. For example, `float(\"42\")` would return `42.0`.\n",
    "\n",
    "3. `str()`: This function converts a value to a string. For example, `str(123)` would return the string `\"123\"`.\n",
    "\n",
    "'''"
   ]
  },
  {
   "cell_type": "markdown",
   "metadata": {},
   "source": [
    "10. Why does this expression cause an error? How can you fix it?\n",
    "'I have eaten ' + 99 + ' burritos.'\n"
   ]
  },
  {
   "cell_type": "code",
   "execution_count": 3,
   "metadata": {},
   "outputs": [
    {
     "data": {
      "text/plain": [
       "'I have eaten 99 burritos.'"
      ]
     },
     "execution_count": 3,
     "metadata": {},
     "output_type": "execute_result"
    }
   ],
   "source": [
    "# we can convert 99 to string, which is shown below\n",
    "\n",
    "'I have eaten ' + '99' + ' burritos.'"
   ]
  }
 ],
 "metadata": {
  "kernelspec": {
   "display_name": "Python 3 (ipykernel)",
   "language": "python",
   "name": "python3"
  },
  "language_info": {
   "codemirror_mode": {
    "name": "ipython",
    "version": 3
   },
   "file_extension": ".py",
   "mimetype": "text/x-python",
   "name": "python",
   "nbconvert_exporter": "python",
   "pygments_lexer": "ipython3",
   "version": "3.9.13"
  }
 },
 "nbformat": 4,
 "nbformat_minor": 2
}
