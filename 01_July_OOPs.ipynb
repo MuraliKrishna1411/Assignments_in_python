{
 "cells": [
  {
   "cell_type": "markdown",
   "metadata": {},
   "source": [
    "1. What is the primary goal of Object-Oriented Programming (OOP)?"
   ]
  },
  {
   "cell_type": "code",
   "execution_count": 1,
   "metadata": {},
   "outputs": [
    {
     "data": {
      "text/plain": [
       "'\\nThe primary goal of Object-Oriented Programming (OOP) is to model real-world entities and their \\nrelationships in a more organized and modular way. OOP aims to achieve encapsulation, abstraction, \\ninheritance, and polymorphism to create efficient, reusable, and maintainable code.\\n'"
      ]
     },
     "execution_count": 1,
     "metadata": {},
     "output_type": "execute_result"
    }
   ],
   "source": [
    "'''\n",
    "The primary goal of Object-Oriented Programming (OOP) is to model real-world entities and their \n",
    "relationships in a more organized and modular way. OOP aims to achieve encapsulation, abstraction, \n",
    "inheritance, and polymorphism to create efficient, reusable, and maintainable code.\n",
    "'''"
   ]
  },
  {
   "cell_type": "markdown",
   "metadata": {},
   "source": [
    "2. What is an object in Python?"
   ]
  },
  {
   "cell_type": "code",
   "execution_count": 2,
   "metadata": {},
   "outputs": [
    {
     "data": {
      "text/plain": [
       "'\\nIn Python, an object is a self-contained instance of a class. It can be thought of as a specific \\ninstantiation of a class. Objects have attributes (variables) and methods (functions) \\nassociated with them.\\n'"
      ]
     },
     "execution_count": 2,
     "metadata": {},
     "output_type": "execute_result"
    }
   ],
   "source": [
    "'''\n",
    "In Python, an object is a self-contained instance of a class. It can be thought of as a specific \n",
    "instantiation of a class. Objects have attributes (variables) and methods (functions) \n",
    "associated with them.\n",
    "'''"
   ]
  },
  {
   "cell_type": "markdown",
   "metadata": {},
   "source": [
    "3. What is a class in Python?"
   ]
  },
  {
   "cell_type": "code",
   "execution_count": 3,
   "metadata": {},
   "outputs": [
    {
     "data": {
      "text/plain": [
       "'\\nA class in Python is a blueprint or a template for creating objects. It defines the attributes \\nand methods that objects of that class will have. It serves as a blueprint for creating \\ninstances (objects) with the same structure and behavior.\\n'"
      ]
     },
     "execution_count": 3,
     "metadata": {},
     "output_type": "execute_result"
    }
   ],
   "source": [
    "'''\n",
    "A class in Python is a blueprint or a template for creating objects. It defines the attributes \n",
    "and methods that objects of that class will have. It serves as a blueprint for creating \n",
    "instances (objects) with the same structure and behavior.\n",
    "'''"
   ]
  },
  {
   "cell_type": "markdown",
   "metadata": {},
   "source": [
    "4. What are attributes and methods in a class?"
   ]
  },
  {
   "cell_type": "code",
   "execution_count": 4,
   "metadata": {},
   "outputs": [
    {
     "data": {
      "text/plain": [
       "'\\nIn a Python class, attributes are variables that hold data specific to each instance of the \\nclass. They define the state of the object. Methods, on the other hand, are functions defined \\nwithin the class, and they define the behavior of the object.\\n'"
      ]
     },
     "execution_count": 4,
     "metadata": {},
     "output_type": "execute_result"
    }
   ],
   "source": [
    "'''\n",
    "In a Python class, attributes are variables that hold data specific to each instance of the \n",
    "class. They define the state of the object. Methods, on the other hand, are functions defined \n",
    "within the class, and they define the behavior of the object.\n",
    "'''"
   ]
  },
  {
   "cell_type": "markdown",
   "metadata": {},
   "source": [
    "5. What is the difference between class variables and instance variables in Python?"
   ]
  },
  {
   "cell_type": "code",
   "execution_count": 6,
   "metadata": {},
   "outputs": [
    {
     "data": {
      "text/plain": [
       "'\\nThe difference between class variables and instance variables in Python is as follows:\\n\\nClass variables are shared by all instances of the class. They are defined within the class \\nbut outside of any methods, and their value is the same for all instances.\\nInstance variables are specific to each instance of the class. They are defined within methods \\nor the constructor (init) and have different values for each object.\\n'"
      ]
     },
     "execution_count": 6,
     "metadata": {},
     "output_type": "execute_result"
    }
   ],
   "source": [
    "'''\n",
    "The difference between class variables and instance variables in Python is as follows:\n",
    "\n",
    "Class variables are shared by all instances of the class. They are defined within the class \n",
    "but outside of any methods, and their value is the same for all instances.\n",
    "Instance variables are specific to each instance of the class. They are defined within methods \n",
    "or the constructor (init) and have different values for each object.\n",
    "'''"
   ]
  },
  {
   "cell_type": "markdown",
   "metadata": {},
   "source": [
    "6. What is the purpose of the self parameter in Python class methods?"
   ]
  },
  {
   "cell_type": "code",
   "execution_count": 7,
   "metadata": {},
   "outputs": [
    {
     "data": {
      "text/plain": [
       "\"\\nThe self parameter in Python class methods is a reference to the instance of the class itself. \\nIt allows you to access and modify the instance's attributes and call other methods. \\nIt is a convention to name this parameter self, but you could name it differently if you prefer. \\nThe self parameter allows you to work with instance-specific data and behavior.\\n\""
      ]
     },
     "execution_count": 7,
     "metadata": {},
     "output_type": "execute_result"
    }
   ],
   "source": [
    "'''\n",
    "The self parameter in Python class methods is a reference to the instance of the class itself. \n",
    "It allows you to access and modify the instance's attributes and call other methods. \n",
    "It is a convention to name this parameter self, but you could name it differently if you prefer. \n",
    "The self parameter allows you to work with instance-specific data and behavior.\n",
    "'''"
   ]
  },
  {
   "cell_type": "markdown",
   "metadata": {},
   "source": [
    "7. For a library management system, you have to design the \"Book\" class with OOP\n",
    "principles in mind. The “Book” class will have following attributes:\n",
    "\n",
    "- a. title: Represents the title of the book.\n",
    "- b. author: Represents the author(s) of the book.\n",
    "- c. isbn: Represents the ISBN (International Standard Book Number) of the book.\n",
    "- d. publication_year: Represents the year of publication of the book.\n",
    "- e. available_copies: Represents the number of copies available for checkout.\n",
    "\n",
    "The class will also include the following methods:\n",
    "\n",
    "- a. check_out(self): Decrements the available copies by one if there are copies\n",
    "available for checkout.\n",
    "- b. return_book(self): Increments the available copies by one when a book is\n",
    "returned.\n",
    "- c. display_book_info(self): Displays the information about the book, including its\n",
    "attributes and the number of available copies."
   ]
  },
  {
   "cell_type": "code",
   "execution_count": 27,
   "metadata": {},
   "outputs": [],
   "source": [
    "class Book:\n",
    "    \n",
    "    def __init__(self,title,author,isbn,publication_year,available_copies):\n",
    "        self.title = title\n",
    "        self.author = author\n",
    "        self.isbn = isbn\n",
    "        self.publication_year = publication_year\n",
    "        self.available_copies = available_copies\n",
    "    \n",
    "    def check_out(self):\n",
    "        if self.available_copies >0:\n",
    "            self.available_copies -=1\n",
    "        else:\n",
    "            print(\"No available copies for checkout\") \n",
    "\n",
    "    def return_book(self):\n",
    "        self.available_copies += 1\n",
    "\n",
    "    def display_book_info(self):\n",
    "        print(f\"Title: {self.title}\")\n",
    "        print(f\"Author: {self.author}\")\n",
    "        print(f\"ISBN: {self.isbn}\")\n",
    "        print(f\"Publication Year: {self.publication_year}\")\n",
    "        print(f\"Available Copies: {self.available_copies}\")"
   ]
  },
  {
   "cell_type": "code",
   "execution_count": 29,
   "metadata": {},
   "outputs": [
    {
     "name": "stdout",
     "output_type": "stream",
     "text": [
      "Title: My life my rules\n",
      "Author: Krishna\n",
      "ISBN: 1023536\n",
      "Publication Year: 1995\n",
      "Available Copies: 8\n"
     ]
    }
   ],
   "source": [
    "obj = Book(\"My life my rules\",\"Krishna\",\"1023536\",1995,7)\n",
    "obj.return_book()\n",
    "obj.display_book_info()"
   ]
  },
  {
   "cell_type": "markdown",
   "metadata": {},
   "source": [
    "8. For a ticket booking system, you have to design the \"Ticket\" class with OOP\n",
    "principles in mind. The “Ticket” class should have the following attributes:\n",
    "- a. ticket_id: Represents the unique identifier for the ticket.\n",
    "- b. event_name: Represents the name of the event.\n",
    "- c. event_date: Represents the date of the event.\n",
    "- d. venue: Represents the venue of the event.\n",
    "- e. seat_number: Represents the seat number associated with the ticket.\n",
    "- f. price: Represents the price of the ticket.\n",
    "- g. is_reserved: Represents the reservation status of the ticket.\n",
    "\n",
    "The class also includes the following methods:\n",
    "- a. reserve_ticket(self): Marks the ticket as reserved if it is not already reserved.\n",
    "- b. cancel_reservation(self): Cancels the reservation of the ticket if it is already\n",
    "reserved.\n",
    "- c. display_ticket_info(self): Displays the information about the ticket, including its\n",
    "attributes and reservation status"
   ]
  },
  {
   "cell_type": "code",
   "execution_count": 12,
   "metadata": {},
   "outputs": [],
   "source": [
    "class Ticket:\n",
    "    def __init__(self,ticket_id,event_name,event_date,venue,seat_number,price):\n",
    "        self.ticket_id = ticket_id\n",
    "        self.event_name = event_name\n",
    "        self.event_date = event_date\n",
    "        self.venue = venue\n",
    "        self.seat_number = seat_number\n",
    "        self.price = price\n",
    "        self.is_reserved = False                     # by default it is not reserved, after reservation it is confirmed as \n",
    "    \n",
    "    def reserve_ticket(self):\n",
    "        if not self.is_reserved:                        # if not False, then true\n",
    "            self.is_reserved = True\n",
    "            print(\"Ticket reserve successfully\")\n",
    "        else:\n",
    "            print(\"Ticket is already reserved\")\n",
    "    \n",
    "    def cancel_reservation(self):\n",
    "        if self.is_reserved:                             # if true, then make it to false to make reservation cancel\n",
    "            self.is_reserved = False\n",
    "            print(\"Reservation canceled\")\n",
    "        else:\n",
    "            print(\"Ticket is not reserved\")\n",
    "    \n",
    "    def display_ticket_info(self):\n",
    "        print(f'Tickect ID: %s' % self.ticket_id)\n",
    "        print(f'Event Name: %s' % self.event_name)\n",
    "        print(f'Event Date: %s' % self.event_date)\n",
    "        print(f'Venue: %s' % self.venue)\n",
    "        print(f'Seat Number: %s' % self.seat_number)\n",
    "        print(f'Price: %s' % self.price)\n",
    "        print(f\"Reservation status: {'Reserved' if self.is_reserved else 'Not Reserved'}\")"
   ]
  },
  {
   "cell_type": "code",
   "execution_count": 14,
   "metadata": {},
   "outputs": [
    {
     "name": "stdout",
     "output_type": "stream",
     "text": [
      "Ticket reserve successfully\n",
      "Tickect ID: 101\n",
      "Event Name: my event\n",
      "Event Date: 29-12-2023\n",
      "Venue: Hyderabad\n",
      "Seat Number: 59\n",
      "Price: 2300\n",
      "Reservation status: Reserved\n",
      "Ticket is already reserved\n",
      "Tickect ID: 101\n",
      "Event Name: my event\n",
      "Event Date: 29-12-2023\n",
      "Venue: Hyderabad\n",
      "Seat Number: 59\n",
      "Price: 2300\n",
      "Reservation status: Reserved\n",
      "Reservation canceled\n",
      "Tickect ID: 101\n",
      "Event Name: my event\n",
      "Event Date: 29-12-2023\n",
      "Venue: Hyderabad\n",
      "Seat Number: 59\n",
      "Price: 2300\n",
      "Reservation status: Not Reserved\n"
     ]
    }
   ],
   "source": [
    "obj = Ticket(ticket_id=101,event_name=\"my event\",event_date=\"29-12-2023\",venue=\"Hyderabad\",seat_number=59,price=2300)\n",
    "obj.reserve_ticket()\n",
    "obj.display_ticket_info();\n",
    "obj.reserve_ticket()\n",
    "obj.display_ticket_info();\n",
    "obj.cancel_reservation()\n",
    "obj.display_ticket_info()"
   ]
  },
  {
   "cell_type": "markdown",
   "metadata": {},
   "source": [
    "9. You are creating a shopping cart for an e-commerce website. Using OOP to model\n",
    "the \"ShoppingCart\" functionality the class should contain following attributes and\n",
    "methods:\n",
    "        \n",
    "        a. items: Represents the list of items in the shopping cart.\n",
    "\n",
    "The class also includes the following methods:\n",
    "\n",
    "- a. add_item(self, item): Adds an item to the shopping cart by appending it to the\n",
    "list of items.\n",
    "- b. remove_item(self, item): Removes an item from the shopping cart if it exists in\n",
    "the list.\n",
    "- c. view_cart(self): Displays the items currently present in the shopping cart.\n",
    "- d. clear_cart(self): Clears all items from the shopping cart by reassigning an\n",
    "empty list to the items attribute."
   ]
  },
  {
   "cell_type": "code",
   "execution_count": 54,
   "metadata": {},
   "outputs": [],
   "source": [
    "class ShoppingCart:\n",
    "    \n",
    "    def __init__(self):\n",
    "        self.items = []\n",
    "        \n",
    "    def add_item(self,item):\n",
    "        self.items.append(item)\n",
    "        \n",
    "    def remove_item(self, item):\n",
    "        self.items.remove(item)\n",
    "        \n",
    "    def view_cart(self):\n",
    "        for item in self.items:\n",
    "            print(item)\n",
    "    \n",
    "    def clear_cart(self):\n",
    "        self.items = []\n",
    "        print(\"empty cart\")"
   ]
  },
  {
   "cell_type": "code",
   "execution_count": 55,
   "metadata": {},
   "outputs": [
    {
     "name": "stdout",
     "output_type": "stream",
     "text": [
      "water\n"
     ]
    }
   ],
   "source": [
    "obj = ShoppingCart()\n",
    "obj.add_item(\"water\")\n",
    "obj.view_cart();\n",
    "obj.remove_item(\"water\")\n",
    "obj.view_cart();"
   ]
  },
  {
   "cell_type": "markdown",
   "metadata": {},
   "source": [
    "10. Imagine a school management system. You have to design the \"Student\" class using\n",
    "OOP concepts.The “Student” class has the following attributes:\n",
    "- a. name: Represents the name of the student.\n",
    "- b. age: Represents the age of the student.\n",
    "- c. grade: Represents the grade or class of the student.\n",
    "- d. student_id: Represents the unique identifier for the student.\n",
    "- e. attendance: Represents the attendance record of the student.\n",
    "\n",
    "The class should also include the following methods:\n",
    "\n",
    "- a. update_attendance(self, date, status): Updates the attendance record of the\n",
    "student for a given date with the provided status (e.g., present or absent).\n",
    "- b. get_attendance(self): Returns the attendance record of the student.\n",
    "- c. get_average_attendance(self): Calculates and returns the average\n",
    "attendance percentage of the student based on their attendance record."
   ]
  },
  {
   "cell_type": "code",
   "execution_count": 106,
   "metadata": {},
   "outputs": [],
   "source": [
    "class Student:\n",
    "    def __init__(self, name,age,grade,student_id):\n",
    "        self.name = name\n",
    "        self.age = age\n",
    "        self.grade = grade\n",
    "        self.student_id = student_id\n",
    "        self.attendance = {}\n",
    "        \n",
    "    def update_attendance(self,date,status):\n",
    "        self.attendance[date] = status\n",
    "        \n",
    "    def get_attendance(self):\n",
    "        return self.attendance\n",
    "    \n",
    "    def get_average_attendance(self):\n",
    "        print(f'Average attendance of {self.name} is {(sum(1 for value in self.attendance.values() if value == \"present\")/len(self.attendance))*100} %')"
   ]
  },
  {
   "cell_type": "code",
   "execution_count": 107,
   "metadata": {},
   "outputs": [
    {
     "name": "stdout",
     "output_type": "stream",
     "text": [
      "Average attendance of Murali_krishna is 60.0 %\n"
     ]
    }
   ],
   "source": [
    "attendance_dict = {\n",
    "    \"2023-11-01\": \"present\",\n",
    "    \"2023-11-02\": \"absent\",\n",
    "    \"2023-11-03\": \"present\",\n",
    "    \"2023-11-04\": \"absent\",\n",
    "    \"2023-11-05\": \"present\"\n",
    "}\n",
    "obj = Student(\"Murali_krishna\",27,\"A\",\"S_1\")\n",
    "\n",
    "for d,s in zip(attendance_dict.keys(),attendance_dict.values()):\n",
    "    obj.update_attendance(d,s);\n",
    "    \n",
    "obj.get_attendance();\n",
    "obj.get_average_attendance()"
   ]
  }
 ],
 "metadata": {
  "kernelspec": {
   "display_name": "base",
   "language": "python",
   "name": "python3"
  },
  "language_info": {
   "codemirror_mode": {
    "name": "ipython",
    "version": 3
   },
   "file_extension": ".py",
   "mimetype": "text/x-python",
   "name": "python",
   "nbconvert_exporter": "python",
   "pygments_lexer": "ipython3",
   "version": "3.9.13"
  }
 },
 "nbformat": 4,
 "nbformat_minor": 2
}
