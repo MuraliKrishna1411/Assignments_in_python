{
 "cells": [
  {
   "cell_type": "markdown",
   "metadata": {},
   "source": [
    "1. Explain what inheritance is in object-oriented programming and why it is used."
   ]
  },
  {
   "cell_type": "code",
   "execution_count": 6,
   "metadata": {},
   "outputs": [
    {
     "data": {
      "text/plain": [
       "'\\nInheritance in object-oriented programming (OOP) is a mechanism that allows one class to inherit the properties and \\nbehaviors (attributes and methods) of another class. It is used to create a hierarchy of classes where a new class \\n(called the derived or subclass) can reuse and extend the functionality of an existing class (called the base or superclass). \\nThis promotes code reuse and helps in modeling relationships between objects in a more organized and efficient way.'"
      ]
     },
     "execution_count": 6,
     "metadata": {},
     "output_type": "execute_result"
    }
   ],
   "source": [
    "'''\n",
    "Inheritance in object-oriented programming (OOP) is a mechanism that allows one class to inherit the properties and \n",
    "behaviors (attributes and methods) of another class. It is used to create a hierarchy of classes where a new class \n",
    "(called the derived or subclass) can reuse and extend the functionality of an existing class (called the base or superclass). \n",
    "This promotes code reuse and helps in modeling relationships between objects in a more organized and efficient way.'''"
   ]
  },
  {
   "cell_type": "markdown",
   "metadata": {},
   "source": [
    "2. Discuss the concept of single inheritance and multiple inheritance, highlighting their\n",
    "differences and advantages."
   ]
  },
  {
   "cell_type": "code",
   "execution_count": 7,
   "metadata": {},
   "outputs": [
    {
     "data": {
      "text/plain": [
       "'\\nSingle Inheritance and Multiple Inheritance:\\n\\nSingle Inheritance: In single inheritance, a derived class can inherit from only one base class. This is a simpler \\nform of inheritance, and it is common in many programming languages, including Python. The advantage is that it provides a \\nclear and straightforward relationship between classes.\\n\\nMultiple Inheritance: In multiple inheritance, a derived class can inherit from multiple base classes. This allows a class \\nto inherit attributes and behaviors from more than one source. The advantage is enhanced code reuse and flexibility, \\nbut it can also lead to ambiguity and complexity in some cases.\\n'"
      ]
     },
     "execution_count": 7,
     "metadata": {},
     "output_type": "execute_result"
    }
   ],
   "source": [
    "'''\n",
    "Single Inheritance and Multiple Inheritance:\n",
    "\n",
    "Single Inheritance: In single inheritance, a derived class can inherit from only one base class. This is a simpler \n",
    "form of inheritance, and it is common in many programming languages, including Python. The advantage is that it provides a \n",
    "clear and straightforward relationship between classes.\n",
    "\n",
    "Multiple Inheritance: In multiple inheritance, a derived class can inherit from multiple base classes. This allows a class \n",
    "to inherit attributes and behaviors from more than one source. The advantage is enhanced code reuse and flexibility, \n",
    "but it can also lead to ambiguity and complexity in some cases.\n",
    "'''"
   ]
  },
  {
   "cell_type": "markdown",
   "metadata": {},
   "source": [
    "3. Explain the terms \"base class\" and \"derived class\" in the context of inheritance."
   ]
  },
  {
   "cell_type": "code",
   "execution_count": 8,
   "metadata": {},
   "outputs": [
    {
     "data": {
      "text/plain": [
       "\"\\nBase Class and Derived Class:\\n\\nA base class is the class from which attributes and behaviors are inherited. It's also known as a superclass or parent class.\\n\\nA derived class is the class that inherits attributes and behaviors from the base class. It's also known as a subclass or child class.\\n\""
      ]
     },
     "execution_count": 8,
     "metadata": {},
     "output_type": "execute_result"
    }
   ],
   "source": [
    "'''\n",
    "Base Class and Derived Class:\n",
    "\n",
    "A base class is the class from which attributes and behaviors are inherited. It's also known as a superclass or parent class.\n",
    "\n",
    "A derived class is the class that inherits attributes and behaviors from the base class. It's also known as a subclass or child class.\n",
    "'''"
   ]
  },
  {
   "cell_type": "markdown",
   "metadata": {},
   "source": [
    "4. What is the significance of the \"protected\" access modifier in inheritance? How does\n",
    "it differ from \"private\" and \"public\" modifiers?"
   ]
  },
  {
   "cell_type": "code",
   "execution_count": 9,
   "metadata": {},
   "outputs": [
    {
     "data": {
      "text/plain": [
       "'\\n\"protected\" Access Modifier in Inheritance:\\n\\nIn Python, \"protected\" is not a distinct access modifier like \"private\" or \"public,\" but it is a convention. By convention, \\nattributes and methods that start with a single underscore (e.g., _variable) are considered protected. \\nThis means that they are intended to be used within the class and its subclasses but not from outside.\\n\\n\"private\" (attributes/methods starting with double underscores, e.g., __variable) are intended to be private to the class \\nand are not accessible from outside.\\n\\n\"public\" attributes/methods (without underscores) can be accessed from anywhere.\\n'"
      ]
     },
     "execution_count": 9,
     "metadata": {},
     "output_type": "execute_result"
    }
   ],
   "source": [
    "'''\n",
    "\"protected\" Access Modifier in Inheritance:\n",
    "\n",
    "In Python, \"protected\" is not a distinct access modifier like \"private\" or \"public,\" but it is a convention. By convention, \n",
    "attributes and methods that start with a single underscore (e.g., _variable) are considered protected. \n",
    "This means that they are intended to be used within the class and its subclasses but not from outside.\n",
    "\n",
    "\"private\" (attributes/methods starting with double underscores, e.g., __variable) are intended to be private to the class \n",
    "and are not accessible from outside.\n",
    "\n",
    "\"public\" attributes/methods (without underscores) can be accessed from anywhere.\n",
    "'''"
   ]
  },
  {
   "cell_type": "markdown",
   "metadata": {},
   "source": [
    "5. What is the purpose of the \"super\" keyword in inheritance? Provide an example."
   ]
  },
  {
   "cell_type": "code",
   "execution_count": 10,
   "metadata": {},
   "outputs": [],
   "source": [
    "'''\n",
    "The \"super\" keyword in Inheritance:\n",
    "\n",
    "The \"super\" keyword is used to call a method from the base class (superclass) within the derived class (subclass). \n",
    "It is often used to extend or override the behavior of the base class's method.\n",
    "'''\n",
    "\n",
    "class Vehicle:\n",
    "    def __init__(self, make, model, year):\n",
    "        self.make = make\n",
    "        self.model = model\n",
    "        self.year = year\n",
    "\n",
    "class Car(Vehicle):\n",
    "    def __init__(self, make, model, year, fuel_type):\n",
    "        super().__init__(make, model, year)  # Call the base class constructor\n",
    "        self.fuel_type = fuel_type"
   ]
  },
  {
   "cell_type": "markdown",
   "metadata": {},
   "source": [
    "6. Create a base class called \"Vehicle\" with attributes like \"make\", \"model\", and \"year\".\n",
    "Then, create a derived class called \"Car\" that inherits from \"Vehicle\" and adds an\n",
    "attribute called \"fuel_type\". Implement appropriate methods in both classes"
   ]
  },
  {
   "cell_type": "code",
   "execution_count": 13,
   "metadata": {},
   "outputs": [
    {
     "name": "stdout",
     "output_type": "stream",
     "text": [
      "2022 Toyota Camry\n",
      "2021 Honda Civic, Fuel Type: Gasoline\n"
     ]
    }
   ],
   "source": [
    "class Vehicle:\n",
    "    def __init__(self, make, model, year):\n",
    "        self.make = make\n",
    "        self.model = model\n",
    "        self.year = year\n",
    "\n",
    "    def get_info(self):\n",
    "        return f\"{self.year} {self.make} {self.model}\"\n",
    "\n",
    "class Car(Vehicle):\n",
    "    def __init__(self, make, model, year, fuel_type):\n",
    "        super().__init__(make, model, year)\n",
    "        self.fuel_type = fuel_type\n",
    "\n",
    "    def get_info(self):\n",
    "        vehicle_info = super().get_info()  # Call the base class's get_info method\n",
    "        return f\"{vehicle_info}, Fuel Type: {self.fuel_type}\"\n",
    "\n",
    "# Create instances of the classes\n",
    "my_vehicle = Vehicle(\"Toyota\", \"Camry\", 2022)\n",
    "my_car = Car(\"Honda\", \"Civic\", 2021, \"Gasoline\")\n",
    "\n",
    "# Accessing methods of the base class and derived class\n",
    "print(my_vehicle.get_info())  # Output: \"2022 Toyota Camry\"\n",
    "print(my_car.get_info())      # Output: \"2021 Honda Civic, Fuel Type: Gasoline\""
   ]
  },
  {
   "cell_type": "markdown",
   "metadata": {},
   "source": [
    "7. Create a base class called \"Employee\" with attributes like \"name\" and \"salary.\"\n",
    "Derive two classes, \"Manager\" and \"Developer,\" from \"Employee.\" Add an additional\n",
    "attribute called \"department\" for the \"Manager\" class and \"programming_language\"\n",
    "for the \"Developer\" class."
   ]
  },
  {
   "cell_type": "code",
   "execution_count": 19,
   "metadata": {},
   "outputs": [
    {
     "name": "stdout",
     "output_type": "stream",
     "text": [
      "('John', 1000)\n",
      "('Mary', 2000, 'IT')\n",
      "('Peter', 3000, 'Python')\n"
     ]
    }
   ],
   "source": [
    "class Employee:\n",
    "    def __init__(self, name, salary):\n",
    "        self.name = name\n",
    "        self.salary = salary\n",
    "    \n",
    "    def display_info(self):\n",
    "        return self.name, self.salary\n",
    "\n",
    "class Manager(Employee):\n",
    "    def __init__(self, name, salary, department):\n",
    "        super().__init__(name, salary)\n",
    "        self.department = department\n",
    "        \n",
    "    def display_info(self):\n",
    "        return self.name, self.salary, self.department\n",
    "class Developer(Employee):\n",
    "    def __init__(self, name, salary, programming_language):\n",
    "        super().__init__(name, salary)\n",
    "        self.programming_language = programming_language\n",
    "        \n",
    "    def display_info(self):\n",
    "        return self.name, self.salary, self.programming_language\n",
    "\n",
    "emp_1 = Employee(\"John\", 1000)\n",
    "print(emp_1.display_info());\n",
    "emp_2 = Manager(\"Mary\", 2000, \"IT\")\n",
    "print(emp_2.display_info());\n",
    "emp_3 = Developer(\"Peter\", 3000, \"Python\")\n",
    "print(emp_3.display_info());"
   ]
  },
  {
   "cell_type": "markdown",
   "metadata": {},
   "source": [
    "8. Design a base class called \"Shape\" with attributes like \"colour\" and \"border_width.\"\n",
    "Create derived classes, \"Rectangle\" and \"Circle,\" that inherit from \"Shape\" and add\n",
    "specific attributes like \"length\" and \"width\" for the \"Rectangle\" class and \"radius\" for\n",
    "the \"Circle\" class."
   ]
  },
  {
   "cell_type": "code",
   "execution_count": 28,
   "metadata": {},
   "outputs": [],
   "source": [
    "class Shape:\n",
    "    def __init__(self,colour,border_width):\n",
    "        self.colour = colour\n",
    "        self.border_width = border_width\n",
    "    \n",
    "    def get_info(self):\n",
    "        return f\"Shape(colour={self.colour}, border_width={self.border_width})\"\n",
    "\n",
    "class Rectangle(Shape):\n",
    "    def __init__(self,colour,border_width,length,width):\n",
    "        super().__init__(colour,border_width)\n",
    "        self.length = length\n",
    "        self.width = width\n",
    "    \n",
    "    def get_info(self):\n",
    "        shape.info = super().get_info()\n",
    "        return f\" {shape.info} Rectangel_length: {self.length} Rectangle_widhth: {self.width}\" \n",
    " \n",
    "class Circle(Shape):\n",
    "    def __init__(self,colour,border_width,radius):\n",
    "        super().__init__(colour,border_width)\n",
    "        self.radius = radius\n",
    "    \n",
    "    def get_info(self):\n",
    "        shape.info = super().get_info()\n",
    "        return f\" {shape.info} Circle_radius: {self.radius}\""
   ]
  },
  {
   "cell_type": "code",
   "execution_count": 31,
   "metadata": {},
   "outputs": [
    {
     "name": "stdout",
     "output_type": "stream",
     "text": [
      " Shape(colour=Red, border_width=2) Rectangel_length: 5 Rectangle_widhth: 3\n",
      " Shape(colour=Blue, border_width=1) Circle_radius: 4\n"
     ]
    }
   ],
   "source": [
    "# Create instances of the classes\n",
    "rectangle = Rectangle(\"Red\", 2, 5, 3)\n",
    "circle = Circle(\"Blue\", 1, 4)\n",
    "\n",
    "# Accessing methods of the base class and derived classes\n",
    "print(rectangle.get_info()) \n",
    "print(circle.get_info())  "
   ]
  },
  {
   "cell_type": "markdown",
   "metadata": {},
   "source": [
    "9. Create a base class called \"Device\" with attributes like \"brand\" and \"model.\" Derive\n",
    "two classes, \"Phone\" and \"Tablet,\" from \"Device.\" Add specific attributes like\n",
    "\"screen_size\" for the \"Phone\" class and \"battery_capacity\" for the \"Tablet\" class.\n"
   ]
  },
  {
   "cell_type": "code",
   "execution_count": 34,
   "metadata": {},
   "outputs": [
    {
     "data": {
      "text/plain": [
       "(('TOUCHER', 'LENOVE'), 6)"
      ]
     },
     "execution_count": 34,
     "metadata": {},
     "output_type": "execute_result"
    }
   ],
   "source": [
    "class Device:\n",
    "    def __init__(self,brand,model):\n",
    "        self.brand = brand\n",
    "        self.model = model\n",
    "    def get_info(self):\n",
    "        return self.model, self.brand\n",
    "    \n",
    "class phone(Device):\n",
    "    def __init__(self,brand,model,screen_size):\n",
    "        super().__init__(brand,model)\n",
    "        self.screen_size = screen_size\n",
    "    \n",
    "    def get_info(self):\n",
    "        return super().get_info() , (self.screen_size)\n",
    "class Tablet(Device):\n",
    "    def __init__(self,brand,model,battery_capacity):\n",
    "        super().__init__(brand,model)\n",
    "        self.battery_capacity = battery_capacity\n",
    "    \n",
    "    def get_info(self):\n",
    "        return super().get_info() , (self.battery_capacity)\n",
    "\n",
    "phone_1 = phone(\"LENOVE\",\"TOUCHER\",6)\n",
    "phone_1.get_info()"
   ]
  },
  {
   "cell_type": "markdown",
   "metadata": {},
   "source": [
    "10. Create a base class called \"BankAccount\" with attributes like \"account_number\" and\n",
    "\"balance.\" Derive two classes, \"SavingsAccount\" and \"CheckingAccount,\" from\n",
    "\"BankAccount.\" Add specific methods like \"calculate_interest\" for the\n",
    "\"SavingsAccount\" class and \"deduct_fees\" for the \"CheckingAccount\" class."
   ]
  },
  {
   "cell_type": "code",
   "execution_count": 39,
   "metadata": {},
   "outputs": [
    {
     "data": {
      "text/plain": [
       "((10000012, 4500), 296)"
      ]
     },
     "execution_count": 39,
     "metadata": {},
     "output_type": "execute_result"
    }
   ],
   "source": [
    "class BankAccount:\n",
    "    def __init__(self, account_number, balance):\n",
    "        self.account_number = account_number\n",
    "        self.balance = balance\n",
    "    \n",
    "    def get_info(self):\n",
    "        return self.account_number, self.balance\n",
    "\n",
    "class SavingsAccount(BankAccount):\n",
    "    def __init__(self, account_number, balance,calculate_interest):\n",
    "        super().__init__(account_number, balance)\n",
    "        self.calculate_interest = calculate_interest\n",
    "    \n",
    "    def get_info(self):\n",
    "        return super().get_info() , (self.calculate_interest)\n",
    "\n",
    "class CheckingAccount(BankAccount):\n",
    "    def __init__(self, account_number, balance,deduct_fees):\n",
    "        super().__init__(account_number, balance)\n",
    "        self.deduct_fees = deduct_fees\n",
    "    \n",
    "    def get_info(self):\n",
    "        return super().get_info(), (self.deduct_fees)\n",
    "    \n",
    "acc_1 = SavingsAccount(10000012,4500,296)\n",
    "acc_1.get_info()"
   ]
  }
 ],
 "metadata": {
  "kernelspec": {
   "display_name": "base",
   "language": "python",
   "name": "python3"
  },
  "language_info": {
   "codemirror_mode": {
    "name": "ipython",
    "version": 3
   },
   "file_extension": ".py",
   "mimetype": "text/x-python",
   "name": "python",
   "nbconvert_exporter": "python",
   "pygments_lexer": "ipython3",
   "version": "3.9.13"
  }
 },
 "nbformat": 4,
 "nbformat_minor": 2
}
