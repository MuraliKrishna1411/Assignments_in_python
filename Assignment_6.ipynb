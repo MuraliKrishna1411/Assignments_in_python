{
 "cells": [
  {
   "cell_type": "markdown",
   "metadata": {},
   "source": [
    "Q.1. What are keywords in python? Using the keyword library, print all the python keywords."
   ]
  },
  {
   "cell_type": "code",
   "execution_count": 1,
   "metadata": {},
   "outputs": [
    {
     "name": "stdout",
     "output_type": "stream",
     "text": [
      "['False', 'None', 'True', '__peg_parser__', 'and', 'as', 'assert', 'async', 'await', 'break', 'class', 'continue', 'def', 'del', 'elif', 'else', 'except', 'finally', 'for', 'from', 'global', 'if', 'import', 'in', 'is', 'lambda', 'nonlocal', 'not', 'or', 'pass', 'raise', 'return', 'try', 'while', 'with', 'yield']\n"
     ]
    }
   ],
   "source": [
    "'''\n",
    "Keywords in Python are reserved words that have special meanings and are used to define the syntax and \n",
    "structure of Python code. These keywords cannot be used as identifiers (variable names) because \n",
    "they serve specific roles in the language.\n",
    "'''\n",
    "\n",
    "import keyword\n",
    "print(keyword.kwlist)"
   ]
  },
  {
   "cell_type": "markdown",
   "metadata": {},
   "source": [
    "Q.2. What are the rules to create variables in python?"
   ]
  },
  {
   "cell_type": "code",
   "execution_count": 2,
   "metadata": {},
   "outputs": [
    {
     "data": {
      "text/plain": [
       "' \\nIn Python, variables are created using the following rules:\\n\\n1. Variable names must start with a letter (a-z, A-Z) or an underscore (_).\\n2. The subsequent characters in the variable name can be letters, digits (0-9), or underscores.\\n3. Variable names are case-sensitive, so \"myvar\" and \"myVar\" would be treated as different variables.\\n4. Python keywords cannot be used as variable names.\\n5. Variable names should be descriptive and follow a naming convention for readability.\\n\\n'"
      ]
     },
     "execution_count": 2,
     "metadata": {},
     "output_type": "execute_result"
    }
   ],
   "source": [
    "''' \n",
    "In Python, variables are created using the following rules:\n",
    "\n",
    "1. Variable names must start with a letter (a-z, A-Z) or an underscore (_).\n",
    "2. The subsequent characters in the variable name can be letters, digits (0-9), or underscores.\n",
    "3. Variable names are case-sensitive, so \"myvar\" and \"myVar\" would be treated as different variables.\n",
    "4. Python keywords cannot be used as variable names.\n",
    "5. Variable names should be descriptive and follow a naming convention for readability.\n",
    "\n",
    "'''"
   ]
  },
  {
   "cell_type": "markdown",
   "metadata": {},
   "source": [
    "Q.3. What are the standards and conventions followed for the nomenclature of variables in python to improve code readability and maintainability?"
   ]
  },
  {
   "cell_type": "code",
   "execution_count": 3,
   "metadata": {},
   "outputs": [
    {
     "data": {
      "text/plain": [
       "'\\nIn Python, there are several naming conventions and standards to improve code readability and \\nmaintainability. Some of the common ones are:\\n\\n1. Use lowercase letters for variable names.\\n2. Separate words in variable names using underscores (cake_case) for improved readability.\\n3. Use descriptive and meaningful variable names to make the code self-explanatory.\\n4. Avoid using single-character variable names, except in specific cases (e.g., loop counters).\\n5. Use uppercase letters for constant variables, which should not be changed.\\n6. Follow the PEP 8 style guide for Python, which provides detailed naming conventions and coding standards.\\n'"
      ]
     },
     "execution_count": 3,
     "metadata": {},
     "output_type": "execute_result"
    }
   ],
   "source": [
    "'''\n",
    "In Python, there are several naming conventions and standards to improve code readability and \n",
    "maintainability. Some of the common ones are:\n",
    "\n",
    "1. Use lowercase letters for variable names.\n",
    "2. Separate words in variable names using underscores (cake_case) for improved readability.\n",
    "3. Use descriptive and meaningful variable names to make the code self-explanatory.\n",
    "4. Avoid using single-character variable names, except in specific cases (e.g., loop counters).\n",
    "5. Use uppercase letters for constant variables, which should not be changed.\n",
    "6. Follow the PEP 8 style guide for Python, which provides detailed naming conventions and coding standards.\n",
    "'''"
   ]
  },
  {
   "cell_type": "markdown",
   "metadata": {},
   "source": [
    "Q.4. What will happen if a keyword is used as a variable name?"
   ]
  },
  {
   "cell_type": "code",
   "execution_count": 13,
   "metadata": {},
   "outputs": [
    {
     "data": {
      "text/plain": [
       "'\\nIf you use a Python keyword as a variable name, you will get a syntax error.\\n'"
      ]
     },
     "execution_count": 13,
     "metadata": {},
     "output_type": "execute_result"
    }
   ],
   "source": [
    "'''\n",
    "If you use a Python keyword as a variable name, you will get a syntax error.\n",
    "'''\n",
    "# For Ex\n",
    "# False = 90               # syntax error\n",
    "    "
   ]
  },
  {
   "cell_type": "markdown",
   "metadata": {},
   "source": [
    "\n",
    "Q.5. For what purpose def keyword is used?"
   ]
  },
  {
   "cell_type": "code",
   "execution_count": 14,
   "metadata": {},
   "outputs": [
    {
     "data": {
      "text/plain": [
       "7"
      ]
     },
     "execution_count": 14,
     "metadata": {},
     "output_type": "execute_result"
    }
   ],
   "source": [
    "'''\n",
    "The \"def\" keyword in Python is used to define a function. It is followed by the function name \n",
    "and a pair of parentheses, which may contain function parameters. The function definition block is \n",
    "indented and contains the code that is executed when the function is called\n",
    "'''\n",
    "\n",
    "def function (parameter_1,parameter_2):\n",
    "    y = parameter_1+parameter_2\n",
    "    return y\n",
    "\n",
    "function(2,5)"
   ]
  },
  {
   "cell_type": "markdown",
   "metadata": {},
   "source": [
    "Q.6. What is the operation of this special character ‘\\’?"
   ]
  },
  {
   "cell_type": "code",
   "execution_count": 16,
   "metadata": {},
   "outputs": [
    {
     "name": "stdout",
     "output_type": "stream",
     "text": [
      "This is a line\n",
      "This is another line\n"
     ]
    }
   ],
   "source": [
    "'''\n",
    "The special character '\\' in Python is known as the escape character. It is used to represent \n",
    "special characters within string literals. When you use the backslash followed by another character, \n",
    "it has an escape sequence meaning\n",
    "\n",
    "'\\n': Represents a newline character.\n",
    "'\\t': Represents a tab character.\n",
    "'\\': Represents a literal backslash.\n",
    "'''\n",
    "print(\"This is a line\\nThis is another line\")\n"
   ]
  },
  {
   "cell_type": "markdown",
   "metadata": {},
   "source": [
    "Q.7. Give an example of the following conditions:\n",
    "(i) Homogeneous list\n",
    "(ii) Heterogeneous set\n",
    "(iii) Homogeneous tuple"
   ]
  },
  {
   "cell_type": "code",
   "execution_count": 21,
   "metadata": {},
   "outputs": [
    {
     "name": "stdout",
     "output_type": "stream",
     "text": [
      "[1, 2, 3, 4, 5]\n",
      "{'banana', 1, 3.14, 'apple'}\n",
      "('apple', 'banana', 'cherry')\n"
     ]
    }
   ],
   "source": [
    "'''\n",
    "(i) Homogeneous list: A homogeneous list contains elements of the same data type. \n",
    "For example, a list of integers: '''\n",
    "\n",
    "homogeneous_list = [1, 2, 3, 4, 5]\n",
    "print(homogeneous_list)\n",
    "\n",
    "'''\n",
    "(ii) Heterogeneous set: A heterogeneous set contains elements of different data types. For example, \n",
    "a set with integers, strings, and a float:\n",
    "'''\n",
    "heterogeneous_set = {1, \"apple\", 3.14, \"banana\"}\n",
    "print(heterogeneous_set)\n",
    "'''\n",
    "(iii) Homogeneous tuple: A homogeneous tuple contains elements of the same data type. \n",
    "For example, a tuple of strings: '''\n",
    "\n",
    "homogeneous_tuple = (\"apple\", \"banana\", \"cherry\")\n",
    "print(homogeneous_tuple)\n"
   ]
  },
  {
   "cell_type": "markdown",
   "metadata": {},
   "source": [
    "Q.8. Explain the mutable and immutable data types with proper explanation & examples."
   ]
  },
  {
   "cell_type": "code",
   "execution_count": 28,
   "metadata": {},
   "outputs": [
    {
     "name": "stdout",
     "output_type": "stream",
     "text": [
      "[1, 2, 3, 4]\n",
      "{'name': 'Alice', 'age': 31}\n",
      "Hello | Hello World\n",
      "(1, 2, 3) (1, 2, 3, 4)\n"
     ]
    }
   ],
   "source": [
    "'''\n",
    "Mutable data types: In Python, mutable data types are those whose values can be changed after \n",
    "they are created. Lists and dictionaries are examples of mutable data types. \n",
    "When you modify a mutable object, it doesn't create a new object but changes the existing one\n",
    "'''\n",
    "my_list = [1, 2, 3]\n",
    "my_list.append(4)  # Modifies the existing list\n",
    "print(my_list)\n",
    "\n",
    "my_dict = {'name': 'Alice', 'age': 30}\n",
    "my_dict['age'] = 31  # Modifies the existing dictionary\n",
    "print(my_dict)\n",
    "\n",
    "'''\n",
    "Immutable data types: Immutable data types are those whose values cannot be changed after they \n",
    "are created. Examples of immutable data types in Python include strings, tuples, and integers. \n",
    "When you try to modify an immutable object, a new object is created instead of modifying the original one\n",
    "'''\n",
    "my_string = \"Hello\"\n",
    "new_string = my_string + \" World\"  # Creates a new string\n",
    "print(my_string,'|',new_string)\n",
    "\n",
    "my_tuple = (1, 2, 3)\n",
    "new_tuple = my_tuple + (4,)  # Creates a new tuple\n",
    "print(my_tuple,new_tuple)"
   ]
  },
  {
   "cell_type": "markdown",
   "metadata": {},
   "source": [
    "Q.9. Write a code to create the given structure using only for loop."
   ]
  },
  {
   "cell_type": "code",
   "execution_count": 3,
   "metadata": {},
   "outputs": [
    {
     "data": {
      "text/plain": [
       "'*\\n  ***\\n  *****\\n  *******\\n  ********* '"
      ]
     },
     "execution_count": 3,
     "metadata": {},
     "output_type": "execute_result"
    }
   ],
   "source": [
    "  '''*\n",
    "    ***\n",
    "    *****\n",
    "    *******\n",
    "    ********* '''"
   ]
  },
  {
   "cell_type": "code",
   "execution_count": 33,
   "metadata": {},
   "outputs": [
    {
     "name": "stdout",
     "output_type": "stream",
     "text": [
      "*\n",
      "***\n",
      "*****\n",
      "*******\n",
      "*********\n"
     ]
    }
   ],
   "source": [
    "for i in range(1,10,2):\n",
    "    print('*'*i)"
   ]
  },
  {
   "cell_type": "markdown",
   "metadata": {},
   "source": [
    "Q.10. Write a code to create the given structure using while loop."
   ]
  },
  {
   "cell_type": "code",
   "execution_count": 6,
   "metadata": {},
   "outputs": [
    {
     "data": {
      "text/plain": [
       "'     |||||||||\\n        |||||||\\n        |||||\\n        |||\\n        |              '"
      ]
     },
     "execution_count": 6,
     "metadata": {},
     "output_type": "execute_result"
    }
   ],
   "source": [
    "'''     |||||||||\n",
    "        |||||||\n",
    "        |||||\n",
    "        |||\n",
    "        |              '''"
   ]
  },
  {
   "cell_type": "code",
   "execution_count": 41,
   "metadata": {},
   "outputs": [
    {
     "name": "stdout",
     "output_type": "stream",
     "text": [
      "|||||||||\n",
      "|||||||\n",
      "|||||\n",
      "|||\n",
      "|\n"
     ]
    }
   ],
   "source": [
    "for i in range(9,0,-2):\n",
    "    print('|'*i)"
   ]
  }
 ],
 "metadata": {
  "kernelspec": {
   "display_name": "Python 3 (ipykernel)",
   "language": "python",
   "name": "python3"
  },
  "language_info": {
   "codemirror_mode": {
    "name": "ipython",
    "version": 3
   },
   "file_extension": ".py",
   "mimetype": "text/x-python",
   "name": "python",
   "nbconvert_exporter": "python",
   "pygments_lexer": "ipython3",
   "version": "3.9.13"
  }
 },
 "nbformat": 4,
 "nbformat_minor": 2
}
