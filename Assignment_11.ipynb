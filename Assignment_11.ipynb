{
 "cells": [
  {
   "cell_type": "markdown",
   "metadata": {},
   "source": [
    "1. What is the role of the 'else' block in a try-except statement? Provide an example\n",
    "scenario where it would be useful."
   ]
  },
  {
   "cell_type": "code",
   "execution_count": 1,
   "metadata": {},
   "outputs": [
    {
     "name": "stdout",
     "output_type": "stream",
     "text": [
      "Division was successful. Result: 5.0\n"
     ]
    }
   ],
   "source": [
    "'''\n",
    "The 'else' block in a try-except statement is used to specify a block of code that will be \n",
    "executed if no exceptions are raised in the 'try' block. It provides an alternative path of \n",
    "execution when there are no exceptions\n",
    "'''\n",
    "try:\n",
    "    result = 10 / 2\n",
    "except ZeroDivisionError:\n",
    "    print(\"Error: Division by zero\")\n",
    "else:\n",
    "    print(\"Division was successful. Result:\", result)"
   ]
  },
  {
   "cell_type": "markdown",
   "metadata": {},
   "source": [
    "\n",
    "2. Can a try-except block be nested inside another try-except block? Explain with an\n",
    "example."
   ]
  },
  {
   "cell_type": "code",
   "execution_count": 10,
   "metadata": {},
   "outputs": [
    {
     "name": "stdout",
     "output_type": "stream",
     "text": [
      "Inner Error: Division by zero\n"
     ]
    }
   ],
   "source": [
    "'''\n",
    "Yes, a try-except block can be nested inside another try-except block. This is useful when \n",
    "you want to handle exceptions at different levels of granularity\n",
    "'''\n",
    "try:\n",
    "    try:\n",
    "        result = 10 // 0\n",
    "    except ZeroDivisionError:\n",
    "        print(\"Inner Error: Division by zero\")\n",
    "except ValueError:\n",
    "    print(\"Outer Error: Invalid input\")"
   ]
  },
  {
   "cell_type": "markdown",
   "metadata": {},
   "source": [
    "\n",
    "3. How can you create a custom exception class in Python? Provide an example that\n",
    "demonstrates its usage."
   ]
  },
  {
   "cell_type": "code",
   "execution_count": 13,
   "metadata": {},
   "outputs": [
    {
     "name": "stdout",
     "output_type": "stream",
     "text": [
      "Custom Exception: Age cannot be negative.\n"
     ]
    }
   ],
   "source": [
    "'''\n",
    "To create a custom exception class in Python, you can define a new class that inherits from the \n",
    "built-in Exception class or one of its subclasses\n",
    "'''\n",
    "class MyCustomException(Exception):\n",
    "    def __init__(self, message):\n",
    "        super().__init__(message)\n",
    "\n",
    "# Usage example:\n",
    "try:\n",
    "    age = int(input(\"Enter your age: \"))\n",
    "    if age < 0:\n",
    "        raise MyCustomException(\"Age cannot be negative.\")\n",
    "except MyCustomException as e:\n",
    "    print(\"Custom Exception:\", e)"
   ]
  },
  {
   "cell_type": "markdown",
   "metadata": {},
   "source": [
    "\n",
    "4. What are some common exceptions that are built-in to Python?"
   ]
  },
  {
   "cell_type": "code",
   "execution_count": 16,
   "metadata": {},
   "outputs": [
    {
     "data": {
      "text/plain": [
       "\"\\nSome common built-in exceptions in Python include:\\n\\n1. ValueError: Raised when an operation or function receives an argument of the correct type \\nbut with an inappropriate value.\\n2. TypeError: Raised when an operation or function is applied to an object of inappropriate type.\\n3. NameError: Raised when a local or global name is not found.\\n4. ZeroDivisionError: Raised when dividing by zero.\\n5. FileNotFoundError: Raised when trying to open a file that doesn't exist.\\n6. KeyError: Raised when a dictionary key is not found.\\n7. IndexError: Raised when trying to access an index that is out of range.\\n\""
      ]
     },
     "execution_count": 16,
     "metadata": {},
     "output_type": "execute_result"
    }
   ],
   "source": [
    "'''\n",
    "Some common built-in exceptions in Python include:\n",
    "\n",
    "1. ValueError: Raised when an operation or function receives an argument of the correct type \n",
    "but with an inappropriate value.\n",
    "2. TypeError: Raised when an operation or function is applied to an object of inappropriate type.\n",
    "3. NameError: Raised when a local or global name is not found.\n",
    "4. ZeroDivisionError: Raised when dividing by zero.\n",
    "5. FileNotFoundError: Raised when trying to open a file that doesn't exist.\n",
    "6. KeyError: Raised when a dictionary key is not found.\n",
    "7. IndexError: Raised when trying to access an index that is out of range.\n",
    "'''"
   ]
  },
  {
   "cell_type": "markdown",
   "metadata": {},
   "source": [
    "\n",
    "5. What is logging in Python, and why is it important in software development?"
   ]
  },
  {
   "cell_type": "code",
   "execution_count": 15,
   "metadata": {},
   "outputs": [
    {
     "data": {
      "text/plain": [
       "\"\\nLogging in Python is a built-in module that provides a flexible and efficient way to record \\ninformation about the program's execution. It is important in software development because it \\nallows developers to track and analyze the behavior of their application, identify issues, and \\ntroubleshoot problems. Logging is especially valuable in production environments where using \\nprint statements for debugging is not practical.\\n\""
      ]
     },
     "execution_count": 15,
     "metadata": {},
     "output_type": "execute_result"
    }
   ],
   "source": [
    "'''\n",
    "Logging in Python is a built-in module that provides a flexible and efficient way to record \n",
    "information about the program's execution. It is important in software development because it \n",
    "allows developers to track and analyze the behavior of their application, identify issues, and \n",
    "troubleshoot problems. Logging is especially valuable in production environments where using \n",
    "print statements for debugging is not practical.\n",
    "'''"
   ]
  },
  {
   "cell_type": "markdown",
   "metadata": {},
   "source": [
    "6. Explain the purpose of log levels in Python logging and provide examples of when\n",
    "each log level would be appropriate."
   ]
  },
  {
   "cell_type": "code",
   "execution_count": 18,
   "metadata": {},
   "outputs": [
    {
     "name": "stderr",
     "output_type": "stream",
     "text": [
      "WARNING:root:Warning message\n",
      "ERROR:root:Error message\n",
      "CRITICAL:root:Critical error\n"
     ]
    }
   ],
   "source": [
    "'''\n",
    "Log levels in Python logging serve to categorize log messages based on their severity. \n",
    "Common log levels include:\n",
    "\n",
    "1. DEBUG: Detailed information for debugging purposes.\n",
    "2. INFO: General information about the program's operation.\n",
    "3. WARNING: Indicates potential issues that are not errors but should be addressed.\n",
    "4. ERROR: Signifies errors that need attention but don't halt the program.\n",
    "5. CRITICAL: Represents critical errors that may lead to the program's termination.\n",
    "'''\n",
    "import logging\n",
    "\n",
    "logging.debug(\"Debug message\")\n",
    "logging.info(\"Informational message\")\n",
    "logging.warning(\"Warning message\")\n",
    "logging.error(\"Error message\")\n",
    "logging.critical(\"Critical error\")"
   ]
  },
  {
   "cell_type": "markdown",
   "metadata": {},
   "source": [
    "7. What are log formatters in Python logging, and how can you customise the log\n",
    "message format using formatters?"
   ]
  },
  {
   "cell_type": "code",
   "execution_count": 1,
   "metadata": {},
   "outputs": [
    {
     "name": "stderr",
     "output_type": "stream",
     "text": [
      "2023-11-04 10:25:05,811 - my_logger - INFO - This is an informational message.\n"
     ]
    }
   ],
   "source": [
    "'''\n",
    "Log formatters in Python logging allow you to customize the format of log messages. \n",
    "You can define a format string that includes placeholders for various log record attributes, \n",
    "such as the log message, timestamp, log level, and more\n",
    "'''\n",
    "import logging\n",
    "\n",
    "logging.basicConfig(format='%(asctime)s - %(name)s - %(levelname)s - %(message)s', level=logging.INFO)\n",
    "\n",
    "logger = logging.getLogger(\"my_logger\")\n",
    "logger.info(\"This is an informational message.\")"
   ]
  },
  {
   "cell_type": "markdown",
   "metadata": {},
   "source": [
    "8. How can you set up logging to capture log messages from multiple modules or\n",
    "classes in a Python application?"
   ]
  },
  {
   "cell_type": "code",
   "execution_count": 20,
   "metadata": {},
   "outputs": [],
   "source": [
    "'''\n",
    "To capture log messages from multiple modules or classes in a Python application, you can \n",
    "create separate logger objects for each module or class. Use a consistent naming convention \n",
    "for your loggers to make it easier to manage and filter log messages\n",
    "'''\n",
    "import logging\n",
    "\n",
    "logger1 = logging.getLogger(\"module1\")\n",
    "logger2 = logging.getLogger(\"module2\")\n",
    "\n",
    "logger1.info(\"Log message from module 1\")\n",
    "logger2.info(\"Log message from module 2\")\n"
   ]
  },
  {
   "cell_type": "markdown",
   "metadata": {},
   "source": [
    "9. What is the difference between the logging and print statements in Python? When\n",
    "should you use logging over print statements in a real-world application?"
   ]
  },
  {
   "cell_type": "code",
   "execution_count": 21,
   "metadata": {},
   "outputs": [
    {
     "data": {
      "text/plain": [
       "'\\nThe main difference between logging and print statements in Python is that logging provides a \\nmore structured and flexible way to record information, while print statements are mainly for \\ntemporary debugging purposes. You should use logging over print statements in a real-world \\napplication because:\\n\\n1. Logging allows you to categorize log messages by severity (log levels) and selectively \\nfilter or capture them, making it easier to identify and troubleshoot issues.\\n2. Log messages can be directed to various outputs (e.g., files, the console, network sockets) \\nand can be configured dynamically, making it suitable for different environments.\\n3. Logging can be enabled or disabled without modifying the code, making it suitable for \\nproduction use without cluttering the output.\\n4. Log messages can include additional context and metadata, improving the debugging process.\\n'"
      ]
     },
     "execution_count": 21,
     "metadata": {},
     "output_type": "execute_result"
    }
   ],
   "source": [
    "'''\n",
    "The main difference between logging and print statements in Python is that logging provides a \n",
    "more structured and flexible way to record information, while print statements are mainly for \n",
    "temporary debugging purposes. You should use logging over print statements in a real-world \n",
    "application because:\n",
    "\n",
    "1. Logging allows you to categorize log messages by severity (log levels) and selectively \n",
    "filter or capture them, making it easier to identify and troubleshoot issues.\n",
    "2. Log messages can be directed to various outputs (e.g., files, the console, network sockets) \n",
    "and can be configured dynamically, making it suitable for different environments.\n",
    "3. Logging can be enabled or disabled without modifying the code, making it suitable for \n",
    "production use without cluttering the output.\n",
    "4. Log messages can include additional context and metadata, improving the debugging process.\n",
    "'''"
   ]
  },
  {
   "cell_type": "markdown",
   "metadata": {},
   "source": [
    "10. Write a Python program that logs a message to a file named \"app.log\" with the\n",
    "following requirements:\n",
    "● The log message should be \"Hello, World!\"\n",
    "● The log level should be set to \"INFO.\"\n",
    "● The log file should append new log entries without overwriting previous ones."
   ]
  },
  {
   "cell_type": "code",
   "execution_count": 5,
   "metadata": {},
   "outputs": [
    {
     "name": "stdout",
     "output_type": "stream",
     "text": [
      "2023-11-04 10:43:26,182 - INFO - Just information\n"
     ]
    }
   ],
   "source": [
    "import logging\n",
    "\n",
    "# Create a logger\n",
    "logger = logging.getLogger('my_logger')\n",
    "\n",
    "# Set the log level to INFO\n",
    "logger.setLevel(logging.INFO)\n",
    "\n",
    "# Create a file handler with append mode\n",
    "file_handler = logging.FileHandler('app.log', mode='a')\n",
    "\n",
    "# Create a formatter with the desired format\n",
    "formatter = logging.Formatter('%(asctime)s - %(levelname)s - %(message)s')\n",
    "\n",
    "# Associate the formatter with the file handler\n",
    "file_handler.setFormatter(formatter)\n",
    "\n",
    "# Add the file handler to the logger\n",
    "logger.addHandler(file_handler)\n",
    "\n",
    "# Log the message\n",
    "logger.info('Just information')"
   ]
  },
  {
   "cell_type": "markdown",
   "metadata": {},
   "source": [
    "\n",
    "11. Create a Python program that logs an error message to the console and a file named\n",
    "\"errors.log\" if an exception occurs during the program's execution. The error\n",
    "message should include the exception type and a timestamp."
   ]
  },
  {
   "cell_type": "code",
   "execution_count": 2,
   "metadata": {},
   "outputs": [
    {
     "name": "stdout",
     "output_type": "stream",
     "text": [
      "2023-11-04 10:42:29,617 - ERROR - 2023-11-04 10:42:29 - Exception occurred: division by zero\n"
     ]
    }
   ],
   "source": [
    "import logging\n",
    "import sys\n",
    "import traceback\n",
    "from datetime import datetime\n",
    "\n",
    "# Configure logging to write to both console and a file\n",
    "logging.basicConfig(\n",
    "    level=logging.ERROR,\n",
    "    handlers=[\n",
    "        logging.StreamHandler(sys.stdout),  # Console output\n",
    "        logging.FileHandler('errors.log', mode='a')  # File output\n",
    "    ],\n",
    "    format='%(asctime)s - %(levelname)s - %(message)s'\n",
    ")\n",
    "\n",
    "try:\n",
    "    # Your code that may raise an exception\n",
    "    result = 10 / 0  # Example: Division by zero\n",
    "except Exception as e:\n",
    "    # Log the exception with timestamp\n",
    "    error_message = f\"Exception occurred: {str(e)}\"\n",
    "    timestamp = datetime.now().strftime(\"%Y-%m-%d %H:%M:%S\")\n",
    "    logging.error(f\"{timestamp} - {error_message}\")"
   ]
  },
  {
   "cell_type": "code",
   "execution_count": null,
   "metadata": {},
   "outputs": [],
   "source": []
  }
 ],
 "metadata": {
  "kernelspec": {
   "display_name": "Python 3 (ipykernel)",
   "language": "python",
   "name": "python3"
  },
  "language_info": {
   "codemirror_mode": {
    "name": "ipython",
    "version": 3
   },
   "file_extension": ".py",
   "mimetype": "text/x-python",
   "name": "python",
   "nbconvert_exporter": "python",
   "pygments_lexer": "ipython3",
   "version": "3.9.13"
  }
 },
 "nbformat": 4,
 "nbformat_minor": 2
}
