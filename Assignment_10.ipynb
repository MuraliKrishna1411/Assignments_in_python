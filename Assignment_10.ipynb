{
 "cells": [
  {
   "cell_type": "markdown",
   "metadata": {},
   "source": [
    "1. What is the role of try and exception block?"
   ]
  },
  {
   "cell_type": "code",
   "execution_count": 2,
   "metadata": {},
   "outputs": [
    {
     "data": {
      "text/plain": [
       "'\\nThe try and except blocks in Python are used for handling exceptions or errors that may occur \\nduring the execution of a program. They allow you to gracefully handle exceptions and prevent \\nyour program from crashing when something unexpected happens.\\n\\n'"
      ]
     },
     "execution_count": 2,
     "metadata": {},
     "output_type": "execute_result"
    }
   ],
   "source": [
    "'''\n",
    "The try and except blocks in Python are used for handling exceptions or errors that may occur \n",
    "during the execution of a program. They allow you to gracefully handle exceptions and prevent \n",
    "your program from crashing when something unexpected happens.\n",
    "\n",
    "'''"
   ]
  },
  {
   "cell_type": "markdown",
   "metadata": {},
   "source": [
    "\n",
    "2. What is the syntax for a basic try-except block?"
   ]
  },
  {
   "cell_type": "code",
   "execution_count": 3,
   "metadata": {},
   "outputs": [],
   "source": [
    "try:\n",
    "    pass\n",
    "    # Code that might raise an exception\n",
    "except ExceptionType:\n",
    "    pass\n",
    "    # Code to handle the exception"
   ]
  },
  {
   "cell_type": "markdown",
   "metadata": {},
   "source": [
    "3. What happens if an exception occurs inside a try block and there is no matching\n",
    "except block?"
   ]
  },
  {
   "cell_type": "code",
   "execution_count": 4,
   "metadata": {},
   "outputs": [
    {
     "data": {
      "text/plain": [
       "'\\nIf an exception occurs inside a try block and there is no matching except block to handle that \\nspecific exception type, the program will terminate, and the default Python error message will \\nbe displayed.\\n'"
      ]
     },
     "execution_count": 4,
     "metadata": {},
     "output_type": "execute_result"
    }
   ],
   "source": [
    "'''\n",
    "If an exception occurs inside a try block and there is no matching except block to handle that \n",
    "specific exception type, the program will terminate, and the default Python error message will \n",
    "be displayed.\n",
    "'''"
   ]
  },
  {
   "cell_type": "markdown",
   "metadata": {},
   "source": [
    "\n",
    "\n",
    "4. What is the difference between using a bare except block and specifying a specific\n",
    "exception type?"
   ]
  },
  {
   "cell_type": "code",
   "execution_count": 5,
   "metadata": {},
   "outputs": [
    {
     "data": {
      "text/plain": [
       "\"\\nThe difference between using a bare except block and specifying a specific exception type is \\nthat a bare except block will catch and handle any exception, while specifying a specific \\nexception type will only catch and handle exceptions of that specific type. \\nUsing a bare except block is generally discouraged because it can make debugging and \\ntroubleshooting more difficult, as you won't know what type of exception occurred.\\n\""
      ]
     },
     "execution_count": 5,
     "metadata": {},
     "output_type": "execute_result"
    }
   ],
   "source": [
    "'''\n",
    "The difference between using a bare except block and specifying a specific exception type is \n",
    "that a bare except block will catch and handle any exception, while specifying a specific \n",
    "exception type will only catch and handle exceptions of that specific type. \n",
    "Using a bare except block is generally discouraged because it can make debugging and \n",
    "troubleshooting more difficult, as you won't know what type of exception occurred.\n",
    "'''"
   ]
  },
  {
   "cell_type": "markdown",
   "metadata": {},
   "source": [
    "5. Can you have nested try-except blocks in Python? If yes, then give an example."
   ]
  },
  {
   "cell_type": "code",
   "execution_count": 6,
   "metadata": {},
   "outputs": [
    {
     "name": "stdout",
     "output_type": "stream",
     "text": [
      "Inner except block: Division by zero\n"
     ]
    }
   ],
   "source": [
    "'''\n",
    "Yes, you can have nested try-except blocks in Python. Nested try-except blocks allow you to \n",
    "handle exceptions at different levels of granularity.\n",
    "'''\n",
    "try:\n",
    "    # Outer try block\n",
    "    try:\n",
    "        # Inner try block\n",
    "        x = 10 / 0  # This will raise a ZeroDivisionError\n",
    "    except ZeroDivisionError:\n",
    "        print(\"Inner except block: Division by zero\")\n",
    "except Exception as e:\n",
    "    print(\"Outer except block: An error occurred:\", e)"
   ]
  },
  {
   "cell_type": "markdown",
   "metadata": {},
   "source": [
    "6. Can we use multiple exception blocks, if yes then give an example."
   ]
  },
  {
   "cell_type": "code",
   "execution_count": 9,
   "metadata": {},
   "outputs": [
    {
     "name": "stdout",
     "output_type": "stream",
     "text": [
      "A ValueError occurred\n"
     ]
    }
   ],
   "source": [
    "'''\n",
    "Yes, you can use multiple except blocks to handle different exception types\n",
    "'''\n",
    "try:\n",
    "    x = int(\"abc\")  # This will raise a ValueError\n",
    "except ValueError:\n",
    "    print(\"A ValueError occurred\")\n",
    "except TypeError:\n",
    "    print(\"A TypeError occurred\")\n",
    "except ZeroDivisionError:\n",
    "    print(\"A ZeroDivisionError occurred\")\n",
    "except Exception as e:\n",
    "    print(\"An unexpected exception occurred:\", e)"
   ]
  },
  {
   "cell_type": "markdown",
   "metadata": {},
   "source": [
    "7. Write the reason due to which following errors are raised:\n",
    "a. EOFError\n",
    "b. FloatingPointError\n",
    "c. IndexError\n",
    "d. MemoryError\n",
    "e. OverflowError\n",
    "f. TabError\n",
    "g. ValueError"
   ]
  },
  {
   "cell_type": "code",
   "execution_count": 10,
   "metadata": {},
   "outputs": [
    {
     "data": {
      "text/plain": [
       "\"\\nReasons for the following errors:\\na. EOFError: Raised when the end of file is reached unexpectedly, typically in file operations.\\nb. FloatingPointError: Not a standard Python exception. Python uses FloatingPointError only in a \\n                       few places, and it's not commonly encountered.\\nc. IndexError: Raised when you try to access an index that is out of range in a \\n                       sequence (e.g., a list, tuple, or string).\\nd. MemoryError: Raised when the program runs out of memory.\\ne. OverflowError: Raised when a mathematical operation exceeds the limits of the numeric type, \\n                       typically in cases of very large numbers.\\nf. TabError: Raised when there is an issue with the indentation in Python code.\\ng. ValueError: Raised when an operation or function receives an argument of the correct \\n               data type but an inappropriate value.\\n               \""
      ]
     },
     "execution_count": 10,
     "metadata": {},
     "output_type": "execute_result"
    }
   ],
   "source": [
    "'''\n",
    "Reasons for the following errors:\n",
    "a. EOFError: Raised when the end of file is reached unexpectedly, typically in file operations.\n",
    "b. FloatingPointError: Not a standard Python exception. Python uses FloatingPointError only in a \n",
    "                       few places, and it's not commonly encountered.\n",
    "c. IndexError: Raised when you try to access an index that is out of range in a \n",
    "                       sequence (e.g., a list, tuple, or string).\n",
    "d. MemoryError: Raised when the program runs out of memory.\n",
    "e. OverflowError: Raised when a mathematical operation exceeds the limits of the numeric type, \n",
    "                       typically in cases of very large numbers.\n",
    "f. TabError: Raised when there is an issue with the indentation in Python code.\n",
    "g. ValueError: Raised when an operation or function receives an argument of the correct \n",
    "               data type but an inappropriate value.\n",
    "               '''"
   ]
  },
  {
   "cell_type": "markdown",
   "metadata": {},
   "source": [
    "8. Write code for the following given scenario and add try-exception block to it.\n",
    "a. Program to divide two numbers\n",
    "b. Program to convert a string to an integer\n",
    "c. Program to access an element in a list\n",
    "d. Program to handle a specific exception\n",
    "e. Program to handle any exception"
   ]
  },
  {
   "cell_type": "code",
   "execution_count": 33,
   "metadata": {},
   "outputs": [
    {
     "name": "stdout",
     "output_type": "stream",
     "text": [
      "ZeroDivisionError\n",
      "Error: Invalid input. Please enter a valid integer.\n",
      "Error: Index out of range.\n",
      "Caught an exception of type <class 'IndexError'>: list index out of range\n",
      "Caught an exception of type <class 'ZeroDivisionError'>: division by zero\n"
     ]
    }
   ],
   "source": [
    "# a. Program to divide two numbers:\n",
    "try:\n",
    "    x,y = 5,0\n",
    "    result = x // y\n",
    "    print(result)\n",
    "except ZeroDivisionError:\n",
    "    print(\"ZeroDivisionError\")\n",
    "\n",
    "# b. Program to convert a string to an integer:\n",
    "try:\n",
    "    num_str = \"string\"\n",
    "    num = int(num_str)\n",
    "    print(\"Integer value:\", num)\n",
    "except ValueError:\n",
    "    print(\"Error: Invalid input. Please enter a valid integer.\")\n",
    "\n",
    "# c. Program to access an element in a list:\n",
    "my_list = [1, 2, 3, 4, 5]\n",
    "index = 7\n",
    "try:\n",
    "    element = my_list[index]\n",
    "    print(\"Element at index\", index, \"is\", element)\n",
    "except IndexError:\n",
    "    print(\"Error: Index out of range.\")\n",
    "\n",
    "# d. Program to handle a specific exception:\n",
    "\n",
    "try:\n",
    "    my_list[10]\n",
    "except IndexError as e:\n",
    "    print(f\"Caught an exception of type {type(e)}: {e}\")\n",
    "\n",
    "# e. Program to handle any exception:\n",
    "\n",
    "try:\n",
    "    49/0\n",
    "except Exception as e:\n",
    "    print(f\"Caught an exception of type {type(e)}: {e}\")"
   ]
  }
 ],
 "metadata": {
  "kernelspec": {
   "display_name": "Python 3 (ipykernel)",
   "language": "python",
   "name": "python3"
  },
  "language_info": {
   "codemirror_mode": {
    "name": "ipython",
    "version": 3
   },
   "file_extension": ".py",
   "mimetype": "text/x-python",
   "name": "python",
   "nbconvert_exporter": "python",
   "pygments_lexer": "ipython3",
   "version": "3.9.13"
  }
 },
 "nbformat": 4,
 "nbformat_minor": 2
}
