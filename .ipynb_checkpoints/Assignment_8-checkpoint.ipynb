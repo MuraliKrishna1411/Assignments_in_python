{
 "cells": [
  {
   "cell_type": "markdown",
   "metadata": {},
   "source": [
    "1. In Python, what is the difference between a built-in function and a user-defined function? Provide an\n",
    "example of each."
   ]
  },
  {
   "cell_type": "code",
   "execution_count": 2,
   "metadata": {},
   "outputs": [
    {
     "name": "stdout",
     "output_type": "stream",
     "text": [
      "13\n",
      "Hello, Alice!\n"
     ]
    }
   ],
   "source": [
    "'''\n",
    "In Python, the main difference between a built-in function and a user-defined function is their \n",
    "origin and purpose.\n",
    "\n",
    "Built-in functions: These are functions that are included in Python's standard library and are \n",
    "readily available for use without the need for any additional definitions. \n",
    "Examples of built-in functions include print(), len(), and max(). \n",
    "Here's an example:\n",
    "\n",
    "'''\n",
    "# Using a built-in function\n",
    "result = len(\"Hello, World!\")  # len() is a built-in function\n",
    "print(result)\n",
    "\n",
    "'''\n",
    "User-defined functions: These are functions created by the user to perform specific tasks. \n",
    "You define them using the def keyword, and they can be customized to perform various operations\n",
    "Here's an example:\n",
    "'''\n",
    "# Defining a user-defined function\n",
    "def greet(name):\n",
    "    return f\"Hello, {name}!\"\n",
    "\n",
    "message = greet(\"Alice\")  # Calling the user-defined function\n",
    "print(message)\n"
   ]
  },
  {
   "cell_type": "markdown",
   "metadata": {},
   "source": [
    "2. How can you pass arguments to a function in Python? Explain the difference between positional\n",
    "arguments and keyword arguments."
   ]
  },
  {
   "cell_type": "code",
   "execution_count": 3,
   "metadata": {},
   "outputs": [],
   "source": [
    "'''\n",
    "You can pass arguments to a function in Python using both positional arguments and keyword arguments:\n",
    "\n",
    "Positional arguments: These are passed to a function in the order specified in the \n",
    "function's parameter list. The function assigns these values based on their position.\n",
    "\n",
    "Keyword arguments: These are passed with the parameter names, allowing you to specify which \n",
    "argument corresponds to which parameter. This can make the code more readable and less error-prone\n",
    "'''\n",
    "def add(x, y):\n",
    "    return x + y\n",
    "\n",
    "result = add(2, 3)  # Positional arguments: x=2, y=3\n",
    "result = add(x=4, y=5)  # Keyword arguments: x=4, y=5"
   ]
  },
  {
   "cell_type": "markdown",
   "metadata": {},
   "source": [
    "3. What is the purpose of the return statement in a function? Can a function have multiple return\n",
    "statements? Explain with an example."
   ]
  },
  {
   "cell_type": "code",
   "execution_count": 5,
   "metadata": {},
   "outputs": [
    {
     "name": "stdout",
     "output_type": "stream",
     "text": [
      "Positive\n"
     ]
    }
   ],
   "source": [
    "'''\n",
    "The return statement in a function is used to specify the value that the function should return \n",
    "to the caller. A function can have multiple return statements, but when the first return \n",
    "statement is encountered, the function's execution stops. This means that only one of \n",
    "the return statements will be executed in a function\n",
    "'''\n",
    "def is_positive(num):\n",
    "    if num > 0:\n",
    "        return \"Positive\"\n",
    "    else:\n",
    "        return \"Non-positive\"\n",
    "\n",
    "result = is_positive(5)  # The function returns \"Positive\"\n",
    "print(result)"
   ]
  },
  {
   "cell_type": "markdown",
   "metadata": {},
   "source": [
    "4. What are lambda functions in Python? How are they different from regular functions? Provide an\n",
    "example where a lambda function can be useful."
   ]
  },
  {
   "cell_type": "code",
   "execution_count": 9,
   "metadata": {},
   "outputs": [
    {
     "name": "stdout",
     "output_type": "stream",
     "text": [
      "25\n"
     ]
    }
   ],
   "source": [
    "'''\n",
    "Lambda functions in Python are anonymous functions defined using the lambda keyword. \n",
    "They are typically used for small, simple functions where you don't want to create a full \n",
    "function definition. The key difference is that lambda functions can have only a \n",
    "single expression and are often used for quick, throwaway functions\n",
    "'''\n",
    "\n",
    "square = lambda x: x ** 2\n",
    "result = square(5)  # result will be 25\n",
    "print(result)"
   ]
  },
  {
   "cell_type": "markdown",
   "metadata": {},
   "source": [
    "5. How does the concept of \"scope\" apply to functions in Python? Explain the difference between local\n",
    "scope and global scope."
   ]
  },
  {
   "cell_type": "code",
   "execution_count": 10,
   "metadata": {},
   "outputs": [
    {
     "data": {
      "text/plain": [
       "'\\nIn Python, \"scope\" refers to the visibility and accessibility of variables within different parts \\nof your code. Functions have their own scopes, which can be categorized as local scope and global scope:\\n\\nLocal scope: Variables defined within a function are in its local scope. They are only accessible \\nwithin that function and are not visible to code outside of the function.\\n\\nGlobal scope: Variables defined outside of any function, typically at the top level of a \\nscript or module, are in the global scope. They are accessible from any part of the code, \\nincluding within functions.\\n\\n'"
      ]
     },
     "execution_count": 10,
     "metadata": {},
     "output_type": "execute_result"
    }
   ],
   "source": [
    "'''\n",
    "In Python, \"scope\" refers to the visibility and accessibility of variables within different parts \n",
    "of your code. Functions have their own scopes, which can be categorized as local scope and global scope:\n",
    "\n",
    "Local scope: Variables defined within a function are in its local scope. They are only accessible \n",
    "within that function and are not visible to code outside of the function.\n",
    "\n",
    "Global scope: Variables defined outside of any function, typically at the top level of a \n",
    "script or module, are in the global scope. They are accessible from any part of the code, \n",
    "including within functions.\n",
    "\n",
    "'''"
   ]
  },
  {
   "cell_type": "markdown",
   "metadata": {},
   "source": [
    "6. How can you use the \"return\" statement in a Python function to return multiple values?"
   ]
  },
  {
   "cell_type": "code",
   "execution_count": 11,
   "metadata": {},
   "outputs": [
    {
     "name": "stdout",
     "output_type": "stream",
     "text": [
      "(3, 4)\n"
     ]
    }
   ],
   "source": [
    "'''\n",
    "To return multiple values from a Python function, you can use a tuple, a list, or \n",
    "multiple return statements\n",
    "'''\n",
    "def get_coordinates():\n",
    "    x = 3\n",
    "    y = 4\n",
    "    return x, y\n",
    "\n",
    "result = get_coordinates()\n",
    "print(result)  # Output: (3, 4)"
   ]
  },
  {
   "cell_type": "markdown",
   "metadata": {},
   "source": [
    "7. What is the difference between the \"pass by value\" and \"pass by reference\" concepts when it\n",
    "comes to function arguments in Python?"
   ]
  },
  {
   "cell_type": "code",
   "execution_count": 2,
   "metadata": {},
   "outputs": [
    {
     "name": "stdout",
     "output_type": "stream",
     "text": [
      "Inside function: 10\n",
      "Outside function: 5\n",
      "Inside function: [1, 2, 3, 4]\n",
      "Outside function: [1, 2, 3, 4]\n"
     ]
    }
   ],
   "source": [
    "'''\n",
    "In Python, function arguments are passed by assignment, which means that when you pass a \n",
    "variable to a function, you are passing a reference to the object, not the actual object. \n",
    "This makes it a bit different from the \"pass by value\" and \"pass by reference\" concepts. \n",
    "If you modify the object inside the function, the changes are reflected outside as well.\n",
    "'''\n",
    "\n",
    "# Pass by value (immutable object - int)\n",
    "def modify_value(num):\n",
    "    num = 10  # Modifying the parameter\n",
    "    print(\"Inside function:\", num)\n",
    "\n",
    "x = 5\n",
    "modify_value(x)\n",
    "print(\"Outside function:\", x)  # Value remains 5\n",
    "\n",
    "# Pass by reference (mutable object - list)\n",
    "def modify_list(my_list):\n",
    "    my_list.append(4)  # Modifying the parameter\n",
    "    print(\"Inside function:\", my_list)\n",
    "\n",
    "my_list = [1, 2, 3]\n",
    "modify_list(my_list)\n",
    "print(\"Outside function:\", my_list)  # List is modified"
   ]
  },
  {
   "cell_type": "markdown",
   "metadata": {},
   "source": [
    "8. Create a function that can intake integer or decimal value and do following operations:\n",
    "a. Logarithmic function (log x)\n",
    "b. Exponential function (exp(x))\n",
    "c. Power function with base 2 (2x)\n",
    "d. Square root"
   ]
  },
  {
   "cell_type": "code",
   "execution_count": 16,
   "metadata": {},
   "outputs": [
    {
     "name": "stdout",
     "output_type": "stream",
     "text": [
      "4.0\n"
     ]
    }
   ],
   "source": [
    "import math\n",
    "\n",
    "def math_operations(value, operation):\n",
    "    if operation == 'log':\n",
    "        return math.log(value)\n",
    "    elif operation == 'exp':\n",
    "        return math.exp(value)\n",
    "    elif operation == 'power':\n",
    "        return 2 ** value\n",
    "    elif operation == 'sqrt':\n",
    "        return math.sqrt(value)\n",
    "\n",
    "result = math_operations(16, 'sqrt')\n",
    "print(result)\n"
   ]
  },
  {
   "cell_type": "markdown",
   "metadata": {},
   "source": [
    "\n",
    "9. Create a function that takes a full name as an argument and returns first name and last name"
   ]
  },
  {
   "cell_type": "code",
   "execution_count": 4,
   "metadata": {},
   "outputs": [
    {
     "name": "stdout",
     "output_type": "stream",
     "text": [
      "First Name: John\n",
      "Last Name: Doe\n"
     ]
    }
   ],
   "source": [
    "def split_full_name(full_name):\n",
    "    parts = full_name.split()\n",
    "    if len(parts) >= 2:\n",
    "        first_name = parts[0]\n",
    "        last_name = ' '.join(parts[1:])\n",
    "        return first_name, last_name\n",
    "    else:\n",
    "        return full_name, ''\n",
    "\n",
    "full_name = \"John Doe\"\n",
    "first, last = split_full_name(full_name)\n",
    "print(\"First Name:\", first)\n",
    "print(\"Last Name:\", last)"
   ]
  }
 ],
 "metadata": {
  "kernelspec": {
   "display_name": "Python 3 (ipykernel)",
   "language": "python",
   "name": "python3"
  },
  "language_info": {
   "codemirror_mode": {
    "name": "ipython",
    "version": 3
   },
   "file_extension": ".py",
   "mimetype": "text/x-python",
   "name": "python",
   "nbconvert_exporter": "python",
   "pygments_lexer": "ipython3",
   "version": "3.9.13"
  }
 },
 "nbformat": 4,
 "nbformat_minor": 2
}
