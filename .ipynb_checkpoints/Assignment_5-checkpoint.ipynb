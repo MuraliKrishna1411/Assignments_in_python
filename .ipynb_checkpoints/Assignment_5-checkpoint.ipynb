{
 "cells": [
  {
   "cell_type": "markdown",
   "metadata": {},
   "source": [
    "1. What does an empty dictionary's code look like?"
   ]
  },
  {
   "cell_type": "code",
   "execution_count": 2,
   "metadata": {},
   "outputs": [
    {
     "data": {
      "text/plain": [
       "dict"
      ]
     },
     "execution_count": 2,
     "metadata": {},
     "output_type": "execute_result"
    }
   ],
   "source": [
    "type({})"
   ]
  },
  {
   "cell_type": "markdown",
   "metadata": {},
   "source": [
    "\n",
    "2. What is the value of a dictionary value with the key 'foo' and the value 42?"
   ]
  },
  {
   "cell_type": "code",
   "execution_count": 9,
   "metadata": {},
   "outputs": [
    {
     "data": {
      "text/plain": [
       "dict_values([42])"
      ]
     },
     "execution_count": 9,
     "metadata": {},
     "output_type": "execute_result"
    }
   ],
   "source": [
    "spam = {'foo':42}\n",
    "spam.values()"
   ]
  },
  {
   "cell_type": "markdown",
   "metadata": {},
   "source": [
    "3. What is the most significant distinction between a dictionary and a list?"
   ]
  },
  {
   "cell_type": "code",
   "execution_count": 10,
   "metadata": {},
   "outputs": [
    {
     "data": {
      "text/plain": [
       "'\\nThe most significant distinction between a dictionary and a list is that a dictionary is a collection of key-value pairs, \\nwhile a list is an ordered collection of values. In a dictionary, you access values by their keys, which are unique, \\nwhereas in a list, you access values by their position (index), and the values may not be unique.\\n'"
      ]
     },
     "execution_count": 10,
     "metadata": {},
     "output_type": "execute_result"
    }
   ],
   "source": [
    "'''\n",
    "The most significant distinction between a dictionary and a list is that a dictionary is a collection of key-value pairs, \n",
    "while a list is an ordered collection of values. In a dictionary, you access values by their keys, which are unique, \n",
    "whereas in a list, you access values by their position (index), and the values may not be unique.\n",
    "'''"
   ]
  },
  {
   "cell_type": "markdown",
   "metadata": {},
   "source": [
    "4. What happens if you try to access spam['foo'] if spam is {'bar': 100}?"
   ]
  },
  {
   "cell_type": "code",
   "execution_count": 9,
   "metadata": {},
   "outputs": [
    {
     "name": "stdout",
     "output_type": "stream",
     "text": [
      "KeyError:'foo'\n"
     ]
    }
   ],
   "source": [
    "''' \n",
    "If you try to access spam['foo'] when spam is {'bar': 100}, you will get a KeyError because \n",
    "the key 'foo' does not exist in the dictionary spam.     '''\n",
    "\n",
    "spam = {'bar':100}\n",
    "spam['bar']\n",
    "try:\n",
    "    spam['foo']\n",
    "except Exception as e:\n",
    "    print(f'KeyError:{e}')"
   ]
  },
  {
   "cell_type": "markdown",
   "metadata": {},
   "source": [
    "5. If a dictionary is stored in spam, what is the difference between the expressions 'cat' in spam and 'cat' in spam.keys()?"
   ]
  },
  {
   "cell_type": "code",
   "execution_count": 12,
   "metadata": {},
   "outputs": [
    {
     "data": {
      "text/plain": [
       "True"
      ]
     },
     "execution_count": 12,
     "metadata": {},
     "output_type": "execute_result"
    }
   ],
   "source": [
    "spam = {'cat':100}\n",
    "'cat' in spam         # Returns True\n",
    "'cat' in spam.keys()  # also returns True\n",
    "\n",
    "'''\n",
    "If a dictionary is stored in spam, the expression 'cat' in spam checks if there is a key 'cat' in the dictionary. \n",
    "It will return True if 'cat' is a key in spam. On the other hand, the expression 'cat' in spam.keys() is essentially \n",
    "the same as 'cat' in spam and also checks for the presence of the key 'cat' in the dictionary.\n",
    "'''"
   ]
  },
  {
   "cell_type": "markdown",
   "metadata": {},
   "source": [
    "6. If a dictionary is stored in spam, what is the difference between the expressions 'cat' in spam and 'cat' in spam.values()?"
   ]
  },
  {
   "cell_type": "code",
   "execution_count": 6,
   "metadata": {},
   "outputs": [
    {
     "name": "stdout",
     "output_type": "stream",
     "text": [
      "True\n",
      "False\n"
     ]
    },
    {
     "data": {
      "text/plain": [
       "\"\\nIf a dictionary is stored in spam, the expression 'cat' in spam checks if there is a key 'cat' in the dictionary, \\nas mentioned earlier. In contrast, the expression 'cat' in spam.values() checks if the value 'cat' exists in any of \\nthe values in the dictionary. It will return True if 'cat' is a value in any of the key-value pairs in spam.\\n\""
      ]
     },
     "execution_count": 6,
     "metadata": {},
     "output_type": "execute_result"
    }
   ],
   "source": [
    "spam = {'cat':1}\n",
    "print('cat' in spam)               \n",
    "print('cat' in spam.values())\n",
    "\n",
    "'''\n",
    "If a dictionary is stored in spam, the expression 'cat' in spam checks if there is a key 'cat' in the dictionary, \n",
    "as mentioned earlier. In contrast, the expression 'cat' in spam.values() checks if the value 'cat' exists in any of \n",
    "the values in the dictionary. It will return True if 'cat' is a value in any of the key-value pairs in spam.\n",
    "'''"
   ]
  },
  {
   "cell_type": "markdown",
   "metadata": {},
   "source": [
    "7. What is a shortcut for the following code?\n",
    "if 'color' not in spam:\n",
    "spam['color'] = 'black'"
   ]
  },
  {
   "cell_type": "code",
   "execution_count": 21,
   "metadata": {},
   "outputs": [
    {
     "data": {
      "text/plain": [
       "{'cat': 1, 1: 'cat', 'color': 'black'}"
      ]
     },
     "execution_count": 21,
     "metadata": {},
     "output_type": "execute_result"
    }
   ],
   "source": [
    "'''\n",
    "A shortcut for adding a key-value pair to a dictionary if the key doesn't exist is to use the setdefault() method.\n",
    "'''\n",
    "spam.setdefault('color', 'black')\n",
    "spam"
   ]
  },
  {
   "cell_type": "markdown",
   "metadata": {},
   "source": [
    "8. How do you \"pretty print\" dictionary values using which module and function?"
   ]
  },
  {
   "cell_type": "code",
   "execution_count": 7,
   "metadata": {},
   "outputs": [
    {
     "name": "stdout",
     "output_type": "stream",
     "text": [
      "{\n",
      "    \"key1\": \"value1\",\n",
      "    \"key2\": \"value2\"\n",
      "}\n"
     ]
    }
   ],
   "source": [
    "import json\n",
    "\n",
    "data = {'key1': 'value1', 'key2': 'value2'}\n",
    "pretty_print = json.dumps(data, indent=4)\n",
    "\n",
    "print(pretty_print)"
   ]
  }
 ],
 "metadata": {
  "kernelspec": {
   "display_name": "Python 3 (ipykernel)",
   "language": "python",
   "name": "python3"
  },
  "language_info": {
   "codemirror_mode": {
    "name": "ipython",
    "version": 3
   },
   "file_extension": ".py",
   "mimetype": "text/x-python",
   "name": "python",
   "nbconvert_exporter": "python",
   "pygments_lexer": "ipython3",
   "version": "3.9.13"
  }
 },
 "nbformat": 4,
 "nbformat_minor": 2
}
