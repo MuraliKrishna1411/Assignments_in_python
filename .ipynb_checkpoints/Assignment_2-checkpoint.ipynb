{
 "cells": [
  {
   "cell_type": "markdown",
   "metadata": {},
   "source": [
    "1.What are the two values of the Boolean data type? How do you write them?"
   ]
  },
  {
   "cell_type": "code",
   "execution_count": 2,
   "metadata": {},
   "outputs": [
    {
     "data": {
      "text/plain": [
       "'\\n\\nThe Boolean data type has two possible values:\\n\\nTrue: This represents a true or \"on\" condition - we write True where first letter will be capital\\nFalse: This represents a false or \"off\" condition - we write False where first letter will be capital\\n\\n'"
      ]
     },
     "execution_count": 2,
     "metadata": {},
     "output_type": "execute_result"
    }
   ],
   "source": [
    "'''\n",
    "\n",
    "The Boolean data type has two possible values:\n",
    "\n",
    "True: This represents a true or \"on\" condition - we write True where first letter will be capital\n",
    "False: This represents a false or \"off\" condition - we write False where first letter will be capital\n",
    "\n",
    "'''"
   ]
  },
  {
   "cell_type": "markdown",
   "metadata": {},
   "source": [
    "2. What are the three different types of Boolean operators?"
   ]
  },
  {
   "cell_type": "code",
   "execution_count": 1,
   "metadata": {},
   "outputs": [
    {
     "data": {
      "text/plain": [
       "'\\nThe three different types of Boolean operators are:\\na. AND (and)\\nb. OR (or)\\nc. NOT (not)\\n'"
      ]
     },
     "execution_count": 1,
     "metadata": {},
     "output_type": "execute_result"
    }
   ],
   "source": [
    "'''\n",
    "The three different types of Boolean operators are:\n",
    "a. AND (and)\n",
    "b. OR (or)\n",
    "c. NOT (not)\n",
    "'''"
   ]
  },
  {
   "cell_type": "markdown",
   "metadata": {},
   "source": [
    "3. Make a list of each Boolean operator's truth tables (i.e. every possible combination of Boolean values for the operator and what it evaluate )."
   ]
  },
  {
   "cell_type": "code",
   "execution_count": 20,
   "metadata": {},
   "outputs": [
    {
     "name": "stdout",
     "output_type": "stream",
     "text": [
      "AND (a and b):\n",
      "True & True : True\n",
      "True & False : False\n",
      "False & True : False\n",
      "False & False : False\n",
      "\n",
      "\n",
      "OR (a or b):\n",
      "True | True : True\n",
      "True | False : True\n",
      "False | True : True\n",
      "False | False : False\n",
      "\n",
      "\n",
      "Not (not operator)\n",
      "not True: False\n",
      "not False: True\n"
     ]
    }
   ],
   "source": [
    "# Boolean operator truth tables:\n",
    "T = True ; F = False\n",
    "print(f'AND (a and b):')\n",
    "print(f'True & True : {T & T}' )\n",
    "print(f'True & False : {T & F}' )\n",
    "print(f'False & True : {F & T}' )\n",
    "print(f'False & False : {F & F}' )\n",
    "print('\\n')\n",
    "\n",
    "print(f'OR (a or b):')\n",
    "\n",
    "print(f'True | True : {T | T}' )\n",
    "print(f'True | False : {T | F}' )\n",
    "print(f'False | True : {F | T}' )\n",
    "print(f'False | False : {F | F}' )\n",
    "print('\\n')\n",
    "print(f'Not (not operator)')\n",
    "print(f'not True: {not True}')\n",
    "print(f'not False: {not False}')"
   ]
  },
  {
   "cell_type": "markdown",
   "metadata": {},
   "source": [
    "4. What are the values of the following expressions?\n",
    "(5 > 4) and (3 == 5)\n",
    "not (5 > 4)\n",
    "(5 > 4) or (3 == 5)\n",
    "not ((5 > 4) or (3 == 5))\n",
    "(True and True) and (True == False)\n",
    "(not False) or (not True)"
   ]
  },
  {
   "cell_type": "code",
   "execution_count": 7,
   "metadata": {},
   "outputs": [],
   "source": [
    "# (5 > 4) and (3 == 5) = False\n",
    "# not (5 > 4) = False\n",
    "# (5 > 4) or (3 == 5) = True\n",
    "# not ((5 > 4) or (3 == 5)) = False\n",
    "# (True and True) and (True == False) =False\n",
    "# (not False) or (not True) = True"
   ]
  },
  {
   "cell_type": "markdown",
   "metadata": {},
   "source": [
    "5. What are the six comparison operators?"
   ]
  },
  {
   "cell_type": "code",
   "execution_count": 21,
   "metadata": {},
   "outputs": [
    {
     "data": {
      "text/plain": [
       "'\\nThe six comparison operators are:\\na. Equal to (==)\\nb. Not equal to (!=)\\nc. Greater than (>)\\nd. Less than (<)\\ne. Greater than or equal to (>=)\\nf. Less than or equal to (<=)\\n'"
      ]
     },
     "execution_count": 21,
     "metadata": {},
     "output_type": "execute_result"
    }
   ],
   "source": [
    "'''\n",
    "The six comparison operators are:\n",
    "a. Equal to (==)\n",
    "b. Not equal to (!=)\n",
    "c. Greater than (>)\n",
    "d. Less than (<)\n",
    "e. Greater than or equal to (>=)\n",
    "f. Less than or equal to (<=)\n",
    "'''"
   ]
  },
  {
   "cell_type": "markdown",
   "metadata": {},
   "source": [
    "6. How do you tell the difference between the equal to and assignment operators?Describe a condition and when you would use one."
   ]
  },
  {
   "cell_type": "code",
   "execution_count": 1,
   "metadata": {},
   "outputs": [
    {
     "data": {
      "text/plain": [
       "'\\nwe can tell the difference between the equal to (==) and assignment (=) operators by their usage:\\n\\nEqual to (==) is used for comparison in conditions, checking if two values are equal.\\nAssignment (=) is used to assign a value to a variable. It does not compare values.\\nExample:\\n\\nCondition using equal to: if x == 5:\\nAssignment: x = 5\\n'"
      ]
     },
     "execution_count": 1,
     "metadata": {},
     "output_type": "execute_result"
    }
   ],
   "source": [
    "'''\n",
    "we can tell the difference between the equal to (==) and assignment (=) operators by their usage:\n",
    "\n",
    "Equal to (==) is used for comparison in conditions, checking if two values are equal.\n",
    "Assignment (=) is used to assign a value to a variable. It does not compare values.\n",
    "Example:\n",
    "\n",
    "Condition using equal to: if x == 5:\n",
    "Assignment: x = 5\n",
    "'''"
   ]
  },
  {
   "cell_type": "markdown",
   "metadata": {},
   "source": [
    "7. Identify the three blocks in this code:\n",
    "spam = 0\n",
    "if spam == 10:\n",
    "print('eggs')\n",
    "if spam > 5:\n",
    "print('bacon')\n",
    "else:\n",
    "print('ham')\n",
    "print('spam')\n",
    "print('spam')"
   ]
  },
  {
   "cell_type": "code",
   "execution_count": 5,
   "metadata": {},
   "outputs": [
    {
     "name": "stdout",
     "output_type": "stream",
     "text": [
      "bacon\n"
     ]
    }
   ],
   "source": [
    "spam = 6\n",
    "\n",
    "#Block 1\n",
    "if spam == 10: \n",
    "    print('eggs')\n",
    "\n",
    "# Block 2\n",
    "elif spam > 5:\n",
    "    print('bacon')\n",
    "\n",
    "# Block 3\n",
    "else:\n",
    "    print('ham')\n",
    "    print('spam')\n",
    "    print('spam')"
   ]
  },
  {
   "cell_type": "markdown",
   "metadata": {},
   "source": [
    "8. Write code that prints Hello if 1 is stored in spam, prints Howdy if 2 is stored in spam, and prints Greetings! if anything else is stored in spam."
   ]
  },
  {
   "cell_type": "code",
   "execution_count": 6,
   "metadata": {},
   "outputs": [
    {
     "name": "stdout",
     "output_type": "stream",
     "text": [
      "Hello\n"
     ]
    }
   ],
   "source": [
    "spam = 1\n",
    "\n",
    "if spam == 1:\n",
    "    print(\"Hello\")\n",
    "\n",
    "elif spam == 2 :\n",
    "    print(\"Howdy\")\n",
    "\n",
    "else:\n",
    "    print(\"Greetings!\")"
   ]
  },
  {
   "cell_type": "markdown",
   "metadata": {},
   "source": [
    "9.If your programme is stuck in an endless loop, what keys you’ll press?"
   ]
  },
  {
   "cell_type": "code",
   "execution_count": 27,
   "metadata": {},
   "outputs": [],
   "source": [
    "# Pressing Ctrl + C will usually terminate the program and return you to the command prompt or the development environment"
   ]
  },
  {
   "cell_type": "markdown",
   "metadata": {},
   "source": [
    "10. How can you tell the difference between break and continue?"
   ]
  },
  {
   "cell_type": "code",
   "execution_count": 26,
   "metadata": {},
   "outputs": [],
   "source": [
    "# break is used to exit a loop prematurely.\n",
    "# continue is used to skip the current iteration of a loop and move to the next one."
   ]
  },
  {
   "cell_type": "markdown",
   "metadata": {},
   "source": [
    "11. In a for loop, what is the difference between range(10), range(0, 10), and range(0, 10, 1)?"
   ]
  },
  {
   "cell_type": "code",
   "execution_count": 11,
   "metadata": {},
   "outputs": [
    {
     "data": {
      "text/plain": [
       "'\\n\\nrange(10),range(0,10), and range(0,10,1) all three will provide same result, but there are some differences\\n\\nfor i in range(10), this will give result from 0 till 9, here we cant provide starting value, it will be by default 0\\n\\nfor i in range(0,10), result will be from 0 till 9, here we can change starting point\\n\\nfor i in range(0,10,1), result will be from 0 till 9, here we can change starting point and stepvalue\\n\\n'"
      ]
     },
     "execution_count": 11,
     "metadata": {},
     "output_type": "execute_result"
    }
   ],
   "source": [
    "'''\n",
    "\n",
    "range(10),range(0,10), and range(0,10,1) all three will provide same result, but there are some differences\n",
    "\n",
    "for i in range(10), this will give result from 0 till 9, here we cant provide starting value, it will be by default 0\n",
    "\n",
    "for i in range(0,10), result will be from 0 till 9, here we can change starting point\n",
    "\n",
    "for i in range(0,10,1), result will be from 0 till 9, here we can change starting point and stepvalue\n",
    "\n",
    "'''"
   ]
  },
  {
   "cell_type": "markdown",
   "metadata": {},
   "source": [
    "12. Write a short program that prints the numbers 1 to 10 using a for loop. Then write an equivalent program that prints the numbers 1 to 10 using a while loop."
   ]
  },
  {
   "cell_type": "code",
   "execution_count": 9,
   "metadata": {},
   "outputs": [
    {
     "name": "stdout",
     "output_type": "stream",
     "text": [
      "For loop ---------\n",
      "1\n",
      "2\n",
      "3\n",
      "4\n",
      "5\n",
      "6\n",
      "7\n",
      "8\n",
      "9\n",
      "10\n",
      "While loop --------\n",
      "1\n",
      "2\n",
      "3\n",
      "4\n",
      "5\n",
      "6\n",
      "7\n",
      "8\n",
      "9\n",
      "10\n"
     ]
    }
   ],
   "source": [
    "print(f'For loop ---------')\n",
    "\n",
    "for i in range(1,11):\n",
    "    print(i)\n",
    "\n",
    "print('While loop --------')\n",
    "\n",
    "# while loop\n",
    "i=0\n",
    "while i<10:\n",
    "    i=i+1\n",
    "    print(i)"
   ]
  },
  {
   "cell_type": "markdown",
   "metadata": {},
   "source": [
    "13. If you had a function named bacon() inside a module named spam, how would you call it after importing spam?"
   ]
  },
  {
   "cell_type": "code",
   "execution_count": null,
   "metadata": {},
   "outputs": [],
   "source": [
    "import spam\n",
    "\n",
    "spam.bacon()"
   ]
  }
 ],
 "metadata": {
  "kernelspec": {
   "display_name": "Python 3 (ipykernel)",
   "language": "python",
   "name": "python3"
  },
  "language_info": {
   "codemirror_mode": {
    "name": "ipython",
    "version": 3
   },
   "file_extension": ".py",
   "mimetype": "text/x-python",
   "name": "python",
   "nbconvert_exporter": "python",
   "pygments_lexer": "ipython3",
   "version": "3.9.13"
  }
 },
 "nbformat": 4,
 "nbformat_minor": 2
}
